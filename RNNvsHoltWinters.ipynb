{
 "cells": [
  {
   "cell_type": "code",
   "execution_count": 1,
   "metadata": {},
   "outputs": [],
   "source": [
    "import math\n",
    "import numpy as np\n",
    "import matplotlib.pyplot as plt\n",
    "import pandas as pd\n",
    "import datetime\n",
    "from sklearn.preprocessing import MinMaxScaler\n",
    "from sklearn.metrics import mean_squared_error\n",
    "from keras.models import Sequential\n",
    "from keras.layers import Dense, LSTM, Dropout\n",
    "from statsmodels.tsa.holtwinters import ExponentialSmoothing"
   ]
  },
  {
   "cell_type": "code",
   "execution_count": 2,
   "metadata": {},
   "outputs": [],
   "source": [
    "# Convert an array of values into a dataset matrix.\n",
    "def create_dataset(dataset, memory=1):\n",
    "    dataX, dataY = [], []\n",
    "    for i in range(len(dataset) - memory - 1):\n",
    "        a = dataset[i:(i + memory), 0]\n",
    "        dataX.append(a)\n",
    "        dataY.append(dataset[i + memory, 0])\n",
    "    return np.array(dataX), np.array(dataY)"
   ]
  },
  {
   "cell_type": "code",
   "execution_count": 3,
   "metadata": {
    "scrolled": false
   },
   "outputs": [],
   "source": [
    "# Loading data with column date as index.\n",
    "# Folder.\n",
    "dataset_folder=\"dataset\"\n",
    "\n",
    "# Dataset file\n",
    "# It's very easy download from Yahoo finantial if you want data updated.\n",
    "filename=\"AMZN_2006-01-01_to_2018-01-01.csv\"\n",
    "#filename=\"GOOGL_2006-01-01_to_2018-01-01.csv\"\n",
    "#filename=\"IBM_2006-01-01_to_2018-01-01.csv\"\n",
    "\n",
    "dataset = pd.read_csv(dataset_folder + \"/\" + filename, index_col='Date', parse_dates=True)"
   ]
  },
  {
   "cell_type": "code",
   "execution_count": 4,
   "metadata": {
    "scrolled": true
   },
   "outputs": [
    {
     "data": {
      "text/html": [
       "<div>\n",
       "<style scoped>\n",
       "    .dataframe tbody tr th:only-of-type {\n",
       "        vertical-align: middle;\n",
       "    }\n",
       "\n",
       "    .dataframe tbody tr th {\n",
       "        vertical-align: top;\n",
       "    }\n",
       "\n",
       "    .dataframe thead th {\n",
       "        text-align: right;\n",
       "    }\n",
       "</style>\n",
       "<table border=\"1\" class=\"dataframe\">\n",
       "  <thead>\n",
       "    <tr style=\"text-align: right;\">\n",
       "      <th></th>\n",
       "      <th>Open</th>\n",
       "      <th>High</th>\n",
       "      <th>Low</th>\n",
       "      <th>Close</th>\n",
       "      <th>Volume</th>\n",
       "      <th>Name</th>\n",
       "    </tr>\n",
       "    <tr>\n",
       "      <th>Date</th>\n",
       "      <th></th>\n",
       "      <th></th>\n",
       "      <th></th>\n",
       "      <th></th>\n",
       "      <th></th>\n",
       "      <th></th>\n",
       "    </tr>\n",
       "  </thead>\n",
       "  <tbody>\n",
       "    <tr>\n",
       "      <th>2006-01-03</th>\n",
       "      <td>47.47</td>\n",
       "      <td>47.85</td>\n",
       "      <td>46.25</td>\n",
       "      <td>47.58</td>\n",
       "      <td>7582127</td>\n",
       "      <td>AMZN</td>\n",
       "    </tr>\n",
       "    <tr>\n",
       "      <th>2006-01-04</th>\n",
       "      <td>47.48</td>\n",
       "      <td>47.73</td>\n",
       "      <td>46.69</td>\n",
       "      <td>47.25</td>\n",
       "      <td>7440914</td>\n",
       "      <td>AMZN</td>\n",
       "    </tr>\n",
       "    <tr>\n",
       "      <th>2006-01-05</th>\n",
       "      <td>47.16</td>\n",
       "      <td>48.20</td>\n",
       "      <td>47.11</td>\n",
       "      <td>47.65</td>\n",
       "      <td>5417258</td>\n",
       "      <td>AMZN</td>\n",
       "    </tr>\n",
       "    <tr>\n",
       "      <th>2006-01-06</th>\n",
       "      <td>47.97</td>\n",
       "      <td>48.58</td>\n",
       "      <td>47.32</td>\n",
       "      <td>47.87</td>\n",
       "      <td>6154285</td>\n",
       "      <td>AMZN</td>\n",
       "    </tr>\n",
       "    <tr>\n",
       "      <th>2006-01-09</th>\n",
       "      <td>46.55</td>\n",
       "      <td>47.10</td>\n",
       "      <td>46.40</td>\n",
       "      <td>47.08</td>\n",
       "      <td>8945056</td>\n",
       "      <td>AMZN</td>\n",
       "    </tr>\n",
       "  </tbody>\n",
       "</table>\n",
       "</div>"
      ],
      "text/plain": [
       "             Open   High    Low  Close   Volume  Name\n",
       "Date                                                 \n",
       "2006-01-03  47.47  47.85  46.25  47.58  7582127  AMZN\n",
       "2006-01-04  47.48  47.73  46.69  47.25  7440914  AMZN\n",
       "2006-01-05  47.16  48.20  47.11  47.65  5417258  AMZN\n",
       "2006-01-06  47.97  48.58  47.32  47.87  6154285  AMZN\n",
       "2006-01-09  46.55  47.10  46.40  47.08  8945056  AMZN"
      ]
     },
     "execution_count": 4,
     "metadata": {},
     "output_type": "execute_result"
    }
   ],
   "source": [
    "# Preview the data.\n",
    "dataset.head()"
   ]
  },
  {
   "cell_type": "code",
   "execution_count": 5,
   "metadata": {
    "scrolled": true
   },
   "outputs": [
    {
     "data": {
      "text/plain": [
       "Open      0\n",
       "High      0\n",
       "Low       0\n",
       "Close     0\n",
       "Volume    0\n",
       "Name      0\n",
       "dtype: int64"
      ]
     },
     "execution_count": 5,
     "metadata": {},
     "output_type": "execute_result"
    }
   ],
   "source": [
    "# Searching null values.\n",
    "dataset.isnull().sum()"
   ]
  },
  {
   "cell_type": "code",
   "execution_count": 6,
   "metadata": {},
   "outputs": [],
   "source": [
    "# Replacing null values by its mean value.\n",
    "dataset.replace(np.NAN, dataset.mean(), inplace=True)"
   ]
  },
  {
   "cell_type": "code",
   "execution_count": 7,
   "metadata": {},
   "outputs": [],
   "source": [
    "# Forecast between these dates\n",
    "test_start_date = datetime.datetime.strptime('2017-01-01', '%Y-%m-%d')\n",
    "test_end_date = datetime.datetime.strptime('2017-12-31', '%Y-%m-%d')"
   ]
  },
  {
   "cell_type": "code",
   "execution_count": 8,
   "metadata": {},
   "outputs": [],
   "source": [
    "# Column to be selected.\n",
    "column=1\n",
    "data_set = dataset.iloc[:, column:column+1]"
   ]
  },
  {
   "cell_type": "code",
   "execution_count": 9,
   "metadata": {},
   "outputs": [
    {
     "data": {
      "text/html": [
       "<div>\n",
       "<style scoped>\n",
       "    .dataframe tbody tr th:only-of-type {\n",
       "        vertical-align: middle;\n",
       "    }\n",
       "\n",
       "    .dataframe tbody tr th {\n",
       "        vertical-align: top;\n",
       "    }\n",
       "\n",
       "    .dataframe thead th {\n",
       "        text-align: right;\n",
       "    }\n",
       "</style>\n",
       "<table border=\"1\" class=\"dataframe\">\n",
       "  <thead>\n",
       "    <tr style=\"text-align: right;\">\n",
       "      <th></th>\n",
       "      <th>High</th>\n",
       "    </tr>\n",
       "    <tr>\n",
       "      <th>Date</th>\n",
       "      <th></th>\n",
       "    </tr>\n",
       "  </thead>\n",
       "  <tbody>\n",
       "    <tr>\n",
       "      <th>2006-01-03</th>\n",
       "      <td>47.85</td>\n",
       "    </tr>\n",
       "    <tr>\n",
       "      <th>2006-01-04</th>\n",
       "      <td>47.73</td>\n",
       "    </tr>\n",
       "    <tr>\n",
       "      <th>2006-01-05</th>\n",
       "      <td>48.20</td>\n",
       "    </tr>\n",
       "    <tr>\n",
       "      <th>2006-01-06</th>\n",
       "      <td>48.58</td>\n",
       "    </tr>\n",
       "    <tr>\n",
       "      <th>2006-01-09</th>\n",
       "      <td>47.10</td>\n",
       "    </tr>\n",
       "    <tr>\n",
       "      <th>...</th>\n",
       "      <td>...</td>\n",
       "    </tr>\n",
       "    <tr>\n",
       "      <th>2017-12-22</th>\n",
       "      <td>1174.62</td>\n",
       "    </tr>\n",
       "    <tr>\n",
       "      <th>2017-12-26</th>\n",
       "      <td>1178.32</td>\n",
       "    </tr>\n",
       "    <tr>\n",
       "      <th>2017-12-27</th>\n",
       "      <td>1187.29</td>\n",
       "    </tr>\n",
       "    <tr>\n",
       "      <th>2017-12-28</th>\n",
       "      <td>1190.10</td>\n",
       "    </tr>\n",
       "    <tr>\n",
       "      <th>2017-12-29</th>\n",
       "      <td>1184.00</td>\n",
       "    </tr>\n",
       "  </tbody>\n",
       "</table>\n",
       "<p>3019 rows × 1 columns</p>\n",
       "</div>"
      ],
      "text/plain": [
       "               High\n",
       "Date               \n",
       "2006-01-03    47.85\n",
       "2006-01-04    47.73\n",
       "2006-01-05    48.20\n",
       "2006-01-06    48.58\n",
       "2006-01-09    47.10\n",
       "...             ...\n",
       "2017-12-22  1174.62\n",
       "2017-12-26  1178.32\n",
       "2017-12-27  1187.29\n",
       "2017-12-28  1190.10\n",
       "2017-12-29  1184.00\n",
       "\n",
       "[3019 rows x 1 columns]"
      ]
     },
     "execution_count": 9,
     "metadata": {},
     "output_type": "execute_result"
    }
   ],
   "source": [
    "data_set"
   ]
  },
  {
   "cell_type": "code",
   "execution_count": 10,
   "metadata": {},
   "outputs": [],
   "source": [
    "# We split the data into training and test sets.\n",
    "training_set = data_set[:test_start_date - datetime.timedelta(1)]\n",
    "test_set = data_set[test_start_date:test_end_date]"
   ]
  },
  {
   "cell_type": "code",
   "execution_count": 11,
   "metadata": {},
   "outputs": [],
   "source": [
    "# Normalize between 0,1 the datasets.\n",
    "scaler = MinMaxScaler(feature_range=(0,1))\n",
    "scaler.fit(data_set)\n",
    "data_set_scaled = scaler.transform(data_set)\n",
    "training_set_scaled = scaler.transform(training_set)\n",
    "test_set_scaled = scaler.transform(test_set)"
   ]
  },
  {
   "cell_type": "code",
   "execution_count": 12,
   "metadata": {},
   "outputs": [
    {
     "data": {
      "image/png": "[encoded data removed]",
      "text/plain": [
       "<Figure size 432x288 with 1 Axes>"
      ]
     },
     "metadata": {
      "needs_background": "light"
     },
     "output_type": "display_data"
    }
   ],
   "source": [
    "# Plotting training and test sets.\n",
    "stock = filename.split(\"_\",1)[0]\n",
    "plt.plot(training_set)\n",
    "plt.plot(test_set)\n",
    "plt.title(stock + ' stock price')\n",
    "plt.legend(['Training set', 'Test set'])\n",
    "plt.ylabel(dataset.columns[column] + ' column')\n",
    "plt.xticks(rotation=45)\n",
    "plt.show()"
   ]
  },
  {
   "cell_type": "code",
   "execution_count": 13,
   "metadata": {},
   "outputs": [],
   "source": [
    "# We define the memory for our LSTM.\n",
    "memory = 60\n",
    "X_train, y_train = create_dataset(training_set_scaled, memory)"
   ]
  },
  {
   "cell_type": "code",
   "execution_count": 14,
   "metadata": {},
   "outputs": [
    {
     "name": "stdout",
     "output_type": "stream",
     "text": [
      "(2707, 60)\n",
      "0.00892925\n",
      "[0.00892925]\n",
      "[0.01805224 0.01844816 0.01876827 0.01752154 0.01722671 0.01634221\n",
      " 0.01582836 0.01562618 0.01517972 0.01540717 0.01595471 0.01521342\n",
      " 0.01554195 0.01527238 0.01530608 0.01556722 0.01593787 0.01656965\n",
      " 0.01592944 0.0154914  0.01494386 0.01027706 0.01014228 0.01002434\n",
      " 0.0101844  0.01069825 0.01029391 0.01020967 0.01026864 0.01093412\n",
      " 0.01154063 0.01101836 0.01079091 0.01078249 0.01048765 0.01020125\n",
      " 0.01051293 0.00993168 0.00959473 0.00901349 0.00971266 0.00950207\n",
      " 0.00936729 0.00940941 0.00897979 0.0085923  0.00870181 0.00901349\n",
      " 0.00901349 0.00934202 0.00899664 0.00924093 0.00878604 0.00862599\n",
      " 0.00845751 0.00827219 0.00788469 0.00818795 0.00885343 0.00892925]\n"
     ]
    }
   ],
   "source": [
    "# Checking the data shaping.\n",
    "print(X_train.shape)\n",
    "print('{:.8f}'.format(y_train[0]))\n",
    "print(data_set_scaled[memory])\n",
    "# Last digit must be the same.\n",
    "print(X_train[1,:])"
   ]
  },
  {
   "cell_type": "code",
   "execution_count": 15,
   "metadata": {},
   "outputs": [],
   "source": [
    "# Reshape input to be [samples=X_train.shape[0], time steps=X_train.shape[1], features=1].\n",
    "X_train = np.reshape(X_train, (X_train.shape[0], X_train.shape[1], 1))"
   ]
  },
  {
   "cell_type": "code",
   "execution_count": 16,
   "metadata": {},
   "outputs": [
    {
     "data": {
      "text/plain": [
       "(2707, 60, 1)"
      ]
     },
     "execution_count": 16,
     "metadata": {},
     "output_type": "execute_result"
    }
   ],
   "source": [
    "X_train.shape"
   ]
  },
  {
   "cell_type": "code",
   "execution_count": 17,
   "metadata": {
    "scrolled": true
   },
   "outputs": [],
   "source": [
    "# Design of the LSTM RNN.\n",
    "# input_shape (batch_size: set up in the fitting phase as batch_size , time_steps, seq_len).\n",
    "\n",
    "model = Sequential()\n",
    "\n",
    "# Input layer.\n",
    "model.add(LSTM(units=50, return_sequences=True, input_shape=(memory, 1)))\n",
    "\n",
    "# Intermediate layers.\n",
    "model.add(LSTM(units=50, return_sequences=True))\n",
    "model.add(Dropout(0.2))\n",
    "model.add(LSTM(units=50, return_sequences=True))\n",
    "model.add(Dropout(0.2))\n",
    "model.add(LSTM(units=50, return_sequences=True))\n",
    "model.add(Dropout(0.2))\n",
    "model.add(LSTM(units=50, return_sequences=False))\n",
    "model.add(Dropout(0.2))\n",
    "\n",
    "# Output layer.\n",
    "model.add(Dense(units=1))\n",
    "\n",
    "# Compiling.\n",
    "model.compile(optimizer='adam', loss='mean_squared_error')"
   ]
  },
  {
   "cell_type": "code",
   "execution_count": 18,
   "metadata": {
    "scrolled": false
   },
   "outputs": [
    {
     "name": "stdout",
     "output_type": "stream",
     "text": [
      "Model: \"sequential\"\n",
      "_________________________________________________________________\n",
      "Layer (type)                 Output Shape              Param #   \n",
      "=================================================================\n",
      "lstm (LSTM)                  (None, 60, 50)            10400     \n",
      "_________________________________________________________________\n",
      "lstm_1 (LSTM)                (None, 60, 50)            20200     \n",
      "_________________________________________________________________\n",
      "dropout (Dropout)            (None, 60, 50)            0         \n",
      "_________________________________________________________________\n",
      "lstm_2 (LSTM)                (None, 60, 50)            20200     \n",
      "_________________________________________________________________\n",
      "dropout_1 (Dropout)          (None, 60, 50)            0         \n",
      "_________________________________________________________________\n",
      "lstm_3 (LSTM)                (None, 60, 50)            20200     \n",
      "_________________________________________________________________\n",
      "dropout_2 (Dropout)          (None, 60, 50)            0         \n",
      "_________________________________________________________________\n",
      "lstm_4 (LSTM)                (None, 50)                20200     \n",
      "_________________________________________________________________\n",
      "dropout_3 (Dropout)          (None, 50)                0         \n",
      "_________________________________________________________________\n",
      "dense (Dense)                (None, 1)                 51        \n",
      "=================================================================\n",
      "Total params: 91,251\n",
      "Trainable params: 91,251\n",
      "Non-trainable params: 0\n",
      "_________________________________________________________________\n"
     ]
    }
   ],
   "source": [
    "# Summary.\n",
    "model.summary()"
   ]
  },
  {
   "cell_type": "code",
   "execution_count": 19,
   "metadata": {},
   "outputs": [],
   "source": [
    "# Prepairing the memory for the first value (the last value of the traninig data set).\n",
    "inputs = data_set_scaled[len(data_set) - len(test_set) - memory:len(data_set) - len(test_set) - 1]"
   ]
  },
  {
   "cell_type": "code",
   "execution_count": 20,
   "metadata": {},
   "outputs": [
    {
     "data": {
      "text/plain": [
       "(59, 1)"
      ]
     },
     "execution_count": 20,
     "metadata": {},
     "output_type": "execute_result"
    }
   ],
   "source": [
    "inputs.shape"
   ]
  },
  {
   "cell_type": "code",
   "execution_count": 21,
   "metadata": {
    "scrolled": true
   },
   "outputs": [
    {
     "name": "stdout",
     "output_type": "stream",
     "text": [
      "Epoch 1/20\n",
      "91/91 [==============================] - 4s 40ms/step - loss: 0.0043\n",
      "Epoch 2/20\n",
      "91/91 [==============================] - 4s 40ms/step - loss: 0.0201\n",
      "Epoch 3/20\n",
      "91/91 [==============================] - 4s 40ms/step - loss: 0.0123\n",
      "Epoch 4/20\n",
      "91/91 [==============================] - 4s 40ms/step - loss: 0.0194\n",
      "Epoch 5/20\n",
      "91/91 [==============================] - 4s 40ms/step - loss: 0.0319\n",
      "Epoch 6/20\n",
      "91/91 [==============================] - 4s 40ms/step - loss: 0.0409\n",
      "Epoch 7/20\n",
      "91/91 [==============================] - 4s 40ms/step - loss: 0.0315\n",
      "Epoch 8/20\n",
      "91/91 [==============================] - 4s 40ms/step - loss: 0.0288\n",
      "Epoch 9/20\n",
      "91/91 [==============================] - 4s 40ms/step - loss: 0.0118\n",
      "Epoch 10/20\n",
      "91/91 [==============================] - 4s 40ms/step - loss: 0.0053\n",
      "Epoch 11/20\n",
      "91/91 [==============================] - 4s 40ms/step - loss: 0.0028\n",
      "Epoch 12/20\n",
      "91/91 [==============================] - 4s 40ms/step - loss: 0.0029\n",
      "Epoch 13/20\n",
      "91/91 [==============================] - 4s 41ms/step - loss: 0.0022\n",
      "Epoch 14/20\n",
      "91/91 [==============================] - 4s 40ms/step - loss: 0.0027\n",
      "Epoch 15/20\n",
      "91/91 [==============================] - 4s 42ms/step - loss: 0.0017\n",
      "Epoch 16/20\n",
      "91/91 [==============================] - 4s 41ms/step - loss: 0.0014\n",
      "Epoch 17/20\n",
      "91/91 [==============================] - 4s 41ms/step - loss: 0.0016\n",
      "Epoch 18/20\n",
      "91/91 [==============================] - 4s 40ms/step - loss: 0.0021\n",
      "Epoch 19/20\n",
      "91/91 [==============================] - 4s 40ms/step - loss: 0.0018\n",
      "Epoch 20/20\n",
      "91/91 [==============================] - 4s 41ms/step - loss: 0.0012\n"
     ]
    },
    {
     "data": {
      "text/plain": [
       "<tensorflow.python.keras.callbacks.History at 0x7f32503b7a90>"
      ]
     },
     "execution_count": 21,
     "metadata": {},
     "output_type": "execute_result"
    }
   ],
   "source": [
    "# Fitting.\n",
    "model.fit(X_train, y_train, epochs=20, batch_size=30, shuffle=False)"
   ]
  },
  {
   "cell_type": "code",
   "execution_count": 22,
   "metadata": {},
   "outputs": [],
   "source": [
    "# We want a large forecast not only one day value.\n",
    "predicted_stock_price = np.array(training_set_scaled[-1])\n",
    "for i in range(len(test_set)):\n",
    "    inputs = np.vstack([inputs, predicted_stock_price[i]])\n",
    "    X_test = np.array(inputs[i:])\n",
    "    X_test = np.reshape(X_test, (1, X_test.shape[0], 1))\n",
    "    predicted_stock_price = np.vstack([predicted_stock_price, model.predict(X_test)])\n",
    "\n",
    "predicted_stock_price = scaler.inverse_transform(predicted_stock_price[1:])"
   ]
  },
  {
   "cell_type": "code",
   "execution_count": 23,
   "metadata": {},
   "outputs": [
    {
     "name": "stdout",
     "output_type": "stream",
     "text": [
      "[758.76]\n",
      "[814.6368861]\n"
     ]
    }
   ],
   "source": [
    "# Checking the first forecast value vs the first test value.\n",
    "print(test_set.iloc[0].values)\n",
    "print(predicted_stock_price[0])"
   ]
  },
  {
   "cell_type": "code",
   "execution_count": 24,
   "metadata": {},
   "outputs": [],
   "source": [
    "predicted_set = pd.DataFrame(data=predicted_stock_price, index=test_set.index, columns=[column])"
   ]
  },
  {
   "cell_type": "code",
   "execution_count": 25,
   "metadata": {},
   "outputs": [],
   "source": [
    "# 1day RNN, only ONE day predicted every step.\n",
    "inputs = data_set_scaled[len(data_set)-len(test_set)-memory:]\n",
    "inputs = inputs.reshape(-1,1)\n",
    "X_test = []\n",
    "for i in range(memory, inputs.shape[0]):\n",
    "    X_test.append(inputs[i-memory:i,0])\n",
    "X_test = np.array(X_test)\n",
    "X_test = np.reshape(X_test, (X_test.shape[0], X_test.shape[1], 1))\n",
    "predicted_stock_price_1day = model.predict(X_test)\n",
    "predicted_stock_price_1day = scaler.inverse_transform(predicted_stock_price_1day)\n",
    "predicted_set_1day = pd.DataFrame(data=predicted_stock_price_1day,\n",
    "                                  index=test_set.index, columns=[column])"
   ]
  },
  {
   "cell_type": "code",
   "execution_count": 26,
   "metadata": {},
   "outputs": [
    {
     "data": {
      "text/plain": [
       "(251,)"
      ]
     },
     "execution_count": 26,
     "metadata": {},
     "output_type": "execute_result"
    }
   ],
   "source": [
    "dataset[test_start_date:test_end_date].index.shape"
   ]
  },
  {
   "cell_type": "code",
   "execution_count": 27,
   "metadata": {
    "scrolled": true
   },
   "outputs": [],
   "source": [
    "# Naive RNN, the next day predicted value is the today value.\n",
    "predicted_set_naive = np.array(training_set[-1:].values)\n",
    "predicted_set_naive = np.append(predicted_set_naive, test_set[0:-1].values)\n",
    "predicted_set_naive = pd.DataFrame(data=predicted_set_naive, index=test_set.index, columns=[column])"
   ]
  },
  {
   "cell_type": "code",
   "execution_count": 28,
   "metadata": {},
   "outputs": [
    {
     "data": {
      "text/plain": [
       "array([[[758.76, 767.4 ]],\n",
       "\n",
       "       [[759.68, 758.76]],\n",
       "\n",
       "       [[782.4 , 759.68]],\n",
       "\n",
       "       [[799.44, 782.4 ]],\n",
       "\n",
       "       [[801.77, 799.44]]])"
      ]
     },
     "execution_count": 28,
     "metadata": {},
     "output_type": "execute_result"
    }
   ],
   "source": [
    "# Testing the Naive data predicted is the data of the day before (first 5 rows).\n",
    "np.stack((test_set, predicted_set_naive), axis=-1)[0:5,:]"
   ]
  },
  {
   "cell_type": "code",
   "execution_count": 29,
   "metadata": {
    "scrolled": true
   },
   "outputs": [
    {
     "name": "stderr",
     "output_type": "stream",
     "text": [
      "/home/davidglt/RNNvsHoltWinters/lib/python3.8/site-packages/statsmodels/tsa/holtwinters.py:743: ConvergenceWarning: Optimization failed to converge. Check mle_retvals.\n",
      "  warn(\"Optimization failed to converge. Check mle_retvals.\",\n"
     ]
    }
   ],
   "source": [
    "# Holt-Winters algorithm running.\n",
    "# Each year we have the same periods: summer holidays, Easter, Chrismas...\n",
    "# We have 252 business days per year.\n",
    "season=252\n",
    "\n",
    "df = dataset.resample('B').mean().ffill()\n",
    "df.index.freq = 'B'\n",
    "\n",
    "train, test = df[:test_start_date - datetime.timedelta(1)].iloc[:,column], \\\n",
    "              df[test_start_date:test_end_date].iloc[:,column]\n",
    "\n",
    "model = ExponentialSmoothing(train, freq='B', trend='add', seasonal='mul', seasonal_periods=season).fit()\n",
    "pred = model.predict(start=test.index[0], end=test.index[-1])"
   ]
  },
  {
   "cell_type": "code",
   "execution_count": 30,
   "metadata": {},
   "outputs": [
    {
     "name": "stdout",
     "output_type": "stream",
     "text": [
      "                       ExponentialSmoothing Model Results                       \n",
      "================================================================================\n",
      "Dep. Variable:                    endog   No. Observations:                 2869\n",
      "Model:             ExponentialSmoothing   SSE                         113432.346\n",
      "Optimized:                         True   AIC                          11062.010\n",
      "Trend:                         Additive   BIC                          12588.210\n",
      "Seasonal:                Multiplicative   AICC                         11113.215\n",
      "Seasonal Periods:                   252   Date:                 Mon, 03 Aug 2020\n",
      "Box-Cox:                          False   Time:                         21:08:05\n",
      "Box-Cox Coeff.:                    None                                         \n",
      "==================================================================================\n",
      "                           coeff                 code              optimized      \n",
      "----------------------------------------------------------------------------------\n",
      "smoothing_level                0.8421053                alpha                 True\n",
      "smoothing_slope                0.0526316                 beta                 True\n",
      "smoothing_seasonal             0.1578947                gamma                 True\n",
      "initial_level                  245.39833                  l.0                 True\n",
      "initial_slope                  0.1155028                  b.0                 True\n",
      "initial_seasons.0              0.1857572                  s.0                 True\n",
      "initial_seasons.1              0.1828879                  s.1                 True\n",
      "initial_seasons.2              0.1872950                  s.2                 True\n",
      "initial_seasons.3              0.1913972                  s.3                 True\n",
      "initial_seasons.4              0.1871433                  s.4                 True\n",
      "initial_seasons.5              0.1875398                  s.5                 True\n",
      "initial_seasons.6              0.1866683                  s.6                 True\n",
      "initial_seasons.7              0.1863144                  s.7                 True\n",
      "initial_seasons.8              0.1855730                  s.8                 True\n",
      "initial_seasons.9              0.1858796                  s.9                 True\n",
      "initial_seasons.10             0.1830651                 s.10                 True\n",
      "initial_seasons.11             0.1828031                 s.11                 True\n",
      "initial_seasons.12             0.1853922                 s.12                 True\n",
      "initial_seasons.13             0.1820866                 s.13                 True\n",
      "initial_seasons.14             0.1825287                 s.14                 True\n",
      "initial_seasons.15             0.1809735                 s.15                 True\n",
      "initial_seasons.16             0.1808414                 s.16                 True\n",
      "initial_seasons.17             0.1810851                 s.17                 True\n",
      "initial_seasons.18             0.1797733                 s.18                 True\n",
      "initial_seasons.19             0.1793165                 s.19                 True\n",
      "initial_seasons.20             0.1754671                 s.20                 True\n",
      "initial_seasons.21             0.1751848                 s.21                 True\n",
      "initial_seasons.22             0.1788493                 s.22                 True\n",
      "initial_seasons.23             0.1660336                 s.23                 True\n",
      "initial_seasons.24             0.1677614                 s.24                 True\n",
      "initial_seasons.25             0.1636786                 s.25                 True\n",
      "initial_seasons.26             0.1589558                 s.26                 True\n",
      "initial_seasons.27             0.1591722                 s.27                 True\n",
      "initial_seasons.28             0.1592485                 s.28                 True\n",
      "initial_seasons.29             0.1590570                 s.29                 True\n",
      "initial_seasons.30             0.1577939                 s.30                 True\n",
      "initial_seasons.31             0.1588857                 s.31                 True\n",
      "initial_seasons.32             0.1611457                 s.32                 True\n",
      "initial_seasons.33             0.1585544                 s.33                 True\n",
      "initial_seasons.34             0.1578913                 s.34                 True\n",
      "initial_seasons.35             0.1575207                 s.35                 True\n",
      "initial_seasons.36             0.1584281                 s.36                 True\n",
      "initial_seasons.37             0.1590740                 s.37                 True\n",
      "initial_seasons.38             0.1578809                 s.38                 True\n",
      "initial_seasons.39             0.1569732                 s.39                 True\n",
      "initial_seasons.40             0.1548470                 s.40                 True\n",
      "initial_seasons.41             0.1551486                 s.41                 True\n",
      "initial_seasons.42             0.1516736                 s.42                 True\n",
      "initial_seasons.43             0.1519534                 s.43                 True\n",
      "initial_seasons.44             0.1498522                 s.44                 True\n",
      "initial_seasons.45             0.1518307                 s.45                 True\n",
      "initial_seasons.46             0.1552357                 s.46                 True\n",
      "initial_seasons.47             0.1551410                 s.47                 True\n",
      "initial_seasons.48             0.1551684                 s.48                 True\n",
      "initial_seasons.49             0.1537877                 s.49                 True\n",
      "initial_seasons.50             0.1518450                 s.50                 True\n",
      "initial_seasons.51             0.1487384                 s.51                 True\n",
      "initial_seasons.52             0.1477825                 s.52                 True\n",
      "initial_seasons.53             0.1432104                 s.53                 True\n",
      "initial_seasons.54             0.1452268                 s.54                 True\n",
      "initial_seasons.55             0.1499123                 s.55                 True\n",
      "initial_seasons.56             0.1555407                 s.56                 True\n",
      "initial_seasons.57             0.1570391                 s.57                 True\n",
      "initial_seasons.58             0.1538038                 s.58                 True\n",
      "initial_seasons.59             0.1489429                 s.59                 True\n",
      "initial_seasons.60             0.1442221                 s.60                 True\n",
      "initial_seasons.61             0.1441472                 s.61                 True\n",
      "initial_seasons.62             0.1477607                 s.62                 True\n",
      "initial_seasons.63             0.1485363                 s.63                 True\n",
      "initial_seasons.64             0.1516268                 s.64                 True\n",
      "initial_seasons.65             0.1531756                 s.65                 True\n",
      "initial_seasons.66             0.1532847                 s.66                 True\n",
      "initial_seasons.67             0.1546122                 s.67                 True\n",
      "initial_seasons.68             0.1521984                 s.68                 True\n",
      "initial_seasons.69             0.1499455                 s.69                 True\n",
      "initial_seasons.70             0.1519735                 s.70                 True\n",
      "initial_seasons.71             0.1515018                 s.71                 True\n",
      "initial_seasons.72             0.1507845                 s.72                 True\n",
      "initial_seasons.73             0.1492315                 s.73                 True\n",
      "initial_seasons.74             0.1472675                 s.74                 True\n",
      "initial_seasons.75             0.1458482                 s.75                 True\n",
      "initial_seasons.76             0.1498970                 s.76                 True\n",
      "initial_seasons.77             0.1518547                 s.77                 True\n",
      "initial_seasons.78             0.1498515                 s.78                 True\n",
      "initial_seasons.79             0.1476970                 s.79                 True\n",
      "initial_seasons.80             0.1450483                 s.80                 True\n",
      "initial_seasons.81             0.1443196                 s.81                 True\n",
      "initial_seasons.82             0.1436503                 s.82                 True\n",
      "initial_seasons.83             0.1478013                 s.83                 True\n",
      "initial_seasons.84             0.1504313                 s.84                 True\n",
      "initial_seasons.85             0.1509329                 s.85                 True\n",
      "initial_seasons.86             0.1490002                 s.86                 True\n",
      "initial_seasons.87             0.1466278                 s.87                 True\n",
      "initial_seasons.88             0.1386195                 s.88                 True\n",
      "initial_seasons.89             0.1322468                 s.89                 True\n",
      "initial_seasons.90             0.1349822                 s.90                 True\n",
      "initial_seasons.91             0.1385082                 s.91                 True\n",
      "initial_seasons.92             0.1393709                 s.92                 True\n",
      "initial_seasons.93             0.1415884                 s.93                 True\n",
      "initial_seasons.94             0.1400974                 s.94                 True\n",
      "initial_seasons.95             0.1401105                 s.95                 True\n",
      "initial_seasons.96             0.1361790                 s.96                 True\n",
      "initial_seasons.97             0.1371458                 s.97                 True\n",
      "initial_seasons.98             0.1372195                 s.98                 True\n",
      "initial_seasons.99             0.1402250                 s.99                 True\n",
      "initial_seasons.100            0.1447257                s.100                 True\n",
      "initial_seasons.101            0.1425845                s.101                 True\n",
      "initial_seasons.102            0.1445270                s.102                 True\n",
      "initial_seasons.103            0.1468333                s.103                 True\n",
      "initial_seasons.104            0.1470316                s.104                 True\n",
      "initial_seasons.105            0.1462528                s.105                 True\n",
      "initial_seasons.106            0.1448849                s.106                 True\n",
      "initial_seasons.107            0.1446895                s.107                 True\n",
      "initial_seasons.108            0.1421422                s.108                 True\n",
      "initial_seasons.109            0.1434739                s.109                 True\n",
      "initial_seasons.110            0.1415710                s.110                 True\n",
      "initial_seasons.111            0.1417045                s.111                 True\n",
      "initial_seasons.112            0.1375193                s.112                 True\n",
      "initial_seasons.113            0.1367392                s.113                 True\n",
      "initial_seasons.114            0.1383145                s.114                 True\n",
      "initial_seasons.115            0.1410362                s.115                 True\n",
      "initial_seasons.116            0.1419424                s.116                 True\n",
      "initial_seasons.117            0.1445238                s.117                 True\n",
      "initial_seasons.118            0.1438937                s.118                 True\n",
      "initial_seasons.119            0.1445102                s.119                 True\n",
      "initial_seasons.120            0.1451942                s.120                 True\n",
      "initial_seasons.121            0.1503361                s.121                 True\n",
      "initial_seasons.122            0.1504511                s.122                 True\n",
      "initial_seasons.123            0.1509476                s.123                 True\n",
      "initial_seasons.124            0.1525715                s.124                 True\n",
      "initial_seasons.125            0.1525422                s.125                 True\n",
      "initial_seasons.126            0.1510468                s.126                 True\n",
      "initial_seasons.127            0.1547662                s.127                 True\n",
      "initial_seasons.128            0.1547595                s.128                 True\n",
      "initial_seasons.129            0.1560592                s.129                 True\n",
      "initial_seasons.130            0.1572658                s.130                 True\n",
      "initial_seasons.131            0.1554417                s.131                 True\n",
      "initial_seasons.132            0.1523067                s.132                 True\n",
      "initial_seasons.133            0.1499244                s.133                 True\n",
      "initial_seasons.134            0.1473055                s.134                 True\n",
      "initial_seasons.135            0.1446593                s.135                 True\n",
      "initial_seasons.136            0.1466566                s.136                 True\n",
      "initial_seasons.137            0.1457990                s.137                 True\n",
      "initial_seasons.138            0.1435603                s.138                 True\n",
      "initial_seasons.139            0.1427545                s.139                 True\n",
      "initial_seasons.140            0.1408641                s.140                 True\n",
      "initial_seasons.141            0.1380330                s.141                 True\n",
      "initial_seasons.142            0.1341658                s.142                 True\n",
      "initial_seasons.143            0.1290976                s.143                 True\n",
      "initial_seasons.144            0.1302548                s.144                 True\n",
      "initial_seasons.145            0.1326961                s.145                 True\n",
      "initial_seasons.146            0.1235463                s.146                 True\n",
      "initial_seasons.147            0.1208634                s.147                 True\n",
      "initial_seasons.148            0.1216049                s.148                 True\n",
      "initial_seasons.149            0.1205779                s.149                 True\n",
      "initial_seasons.150            0.1171079                s.150                 True\n",
      "initial_seasons.151            0.1125180                s.151                 True\n",
      "initial_seasons.152            0.1082128                s.152                 True\n",
      "initial_seasons.153            0.1052043                s.153                 True\n",
      "initial_seasons.154            0.1039585                s.154                 True\n",
      "initial_seasons.155            0.1085670                s.155                 True\n",
      "initial_seasons.156            0.1124826                s.156                 True\n",
      "initial_seasons.157            0.1130780                s.157                 True\n",
      "initial_seasons.158            0.1150010                s.158                 True\n",
      "initial_seasons.159            0.1172329                s.159                 True\n",
      "initial_seasons.160            0.1177238                s.160                 True\n",
      "initial_seasons.161            0.1124488                s.161                 True\n",
      "initial_seasons.162            0.1117539                s.162                 True\n",
      "initial_seasons.163            0.1116222                s.163                 True\n",
      "initial_seasons.164            0.1163454                s.164                 True\n",
      "initial_seasons.165            0.1187361                s.165                 True\n",
      "initial_seasons.166            0.1207599                s.166                 True\n",
      "initial_seasons.167            0.1195505                s.167                 True\n",
      "initial_seasons.168            0.1187720                s.168                 True\n",
      "initial_seasons.169            0.1196872                s.169                 True\n",
      "initial_seasons.170            0.1182947                s.170                 True\n",
      "initial_seasons.171            0.1214361                s.171                 True\n",
      "initial_seasons.172            0.1268412                s.172                 True\n",
      "initial_seasons.173            0.1294578                s.173                 True\n",
      "initial_seasons.174            0.1241500                s.174                 True\n",
      "initial_seasons.175            0.1242633                s.175                 True\n",
      "initial_seasons.176            0.1269573                s.176                 True\n",
      "initial_seasons.177            0.1273404                s.177                 True\n",
      "initial_seasons.178            0.1302674                s.178                 True\n",
      "initial_seasons.179            0.1329149                s.179                 True\n",
      "initial_seasons.180            0.1344027                s.180                 True\n",
      "initial_seasons.181            0.1330269                s.181                 True\n",
      "initial_seasons.182            0.1297305                s.182                 True\n",
      "initial_seasons.183            0.1295562                s.183                 True\n",
      "initial_seasons.184            0.1285649                s.184                 True\n",
      "initial_seasons.185            0.1284106                s.185                 True\n",
      "initial_seasons.186            0.1312740                s.186                 True\n",
      "initial_seasons.187            0.1336160                s.187                 True\n",
      "initial_seasons.188            0.1304189                s.188                 True\n",
      "initial_seasons.189            0.1310503                s.189                 True\n",
      "initial_seasons.190            0.1303234                s.190                 True\n",
      "initial_seasons.191            0.1307010                s.191                 True\n",
      "initial_seasons.192            0.1320532                s.192                 True\n",
      "initial_seasons.193            0.1335237                s.193                 True\n",
      "initial_seasons.194            0.1339608                s.194                 True\n",
      "initial_seasons.195            0.1328983                s.195                 True\n",
      "initial_seasons.196            0.1331689                s.196                 True\n",
      "initial_seasons.197            0.1337482                s.197                 True\n",
      "initial_seasons.198            0.1342711                s.198                 True\n",
      "initial_seasons.199            0.1357707                s.199                 True\n",
      "initial_seasons.200            0.1361178                s.200                 True\n",
      "initial_seasons.201            0.1351578                s.201                 True\n",
      "initial_seasons.202            0.1363205                s.202                 True\n",
      "initial_seasons.203            0.1342520                s.203                 True\n",
      "initial_seasons.204            0.1351094                s.204                 True\n",
      "initial_seasons.205            0.1381296                s.205                 True\n",
      "initial_seasons.206            0.1417470                s.206                 True\n",
      "initial_seasons.207            0.1446705                s.207                 True\n",
      "initial_seasons.208            0.1451565                s.208                 True\n",
      "initial_seasons.209            0.1394944                s.209                 True\n",
      "initial_seasons.210            0.1465129                s.210                 True\n",
      "initial_seasons.211            0.1451909                s.211                 True\n",
      "initial_seasons.212            0.1477379                s.212                 True\n",
      "initial_seasons.213            0.1480231                s.213                 True\n",
      "initial_seasons.214            0.1518914                s.214                 True\n",
      "initial_seasons.215            0.1587163                s.215                 True\n",
      "initial_seasons.216            0.1591335                s.216                 True\n",
      "initial_seasons.217            0.1564530                s.217                 True\n",
      "initial_seasons.218            0.1556363                s.218                 True\n",
      "initial_seasons.219            0.1573945                s.219                 True\n",
      "initial_seasons.220            0.1589292                s.220                 True\n",
      "initial_seasons.221            0.1625400                s.221                 True\n",
      "initial_seasons.222            0.1659838                s.222                 True\n",
      "initial_seasons.223            0.1642195                s.223                 True\n",
      "initial_seasons.224            0.1649570                s.224                 True\n",
      "initial_seasons.225            0.1713310                s.225                 True\n",
      "initial_seasons.226            0.1702468                s.226                 True\n",
      "initial_seasons.227            0.1691434                s.227                 True\n",
      "initial_seasons.228            0.1708194                s.228                 True\n",
      "initial_seasons.229            0.1725237                s.229                 True\n",
      "initial_seasons.230            0.1757233                s.230                 True\n",
      "initial_seasons.231            0.1741290                s.231                 True\n",
      "initial_seasons.232            0.1729682                s.232                 True\n",
      "initial_seasons.233            0.1722495                s.233                 True\n",
      "initial_seasons.234            0.1713901                s.234                 True\n",
      "initial_seasons.235            0.1651881                s.235                 True\n",
      "initial_seasons.236            0.1657054                s.236                 True\n",
      "initial_seasons.237            0.1652165                s.237                 True\n",
      "initial_seasons.238            0.1687954                s.238                 True\n",
      "initial_seasons.239            0.1649684                s.239                 True\n",
      "initial_seasons.240            0.1629645                s.240                 True\n",
      "initial_seasons.241            0.1649025                s.241                 True\n",
      "initial_seasons.242            0.1633249                s.242                 True\n",
      "initial_seasons.243            0.1605830                s.243                 True\n",
      "initial_seasons.244            0.1596858                s.244                 True\n",
      "initial_seasons.245            0.1596841                s.245                 True\n",
      "initial_seasons.246            0.1613195                s.246                 True\n",
      "initial_seasons.247            0.1646965                s.247                 True\n",
      "initial_seasons.248            0.1696420                s.248                 True\n",
      "initial_seasons.249            0.1751150                s.249                 True\n",
      "initial_seasons.250            0.1731429                s.250                 True\n",
      "initial_seasons.251            0.1708345                s.251                 True\n",
      "----------------------------------------------------------------------------------\n"
     ]
    }
   ],
   "source": [
    "print(model.summary())"
   ]
  },
  {
   "cell_type": "code",
   "execution_count": 31,
   "metadata": {
    "scrolled": false
   },
   "outputs": [
    {
     "data": {
      "image/png": "[encoded data removed]",
      "text/plain": [
       "<Figure size 432x288 with 1 Axes>"
      ]
     },
     "metadata": {
      "needs_background": "light"
     },
     "output_type": "display_data"
    }
   ],
   "source": [
    "# Plotting the graphs.\n",
    "plt.plot(test_set, color='red', label='Real ' + stock + ' Stock Price')\n",
    "plt.plot(predicted_set, color='blue', label='LSTM RNN')\n",
    "plt.plot(predicted_set_1day, color='black', label='LSTM RNN 1Day')\n",
    "plt.plot(predicted_set_naive, color='purple', label='LSTM RNN Naive')\n",
    "plt.plot(pred, color='green', label='Holt-Winters')\n",
    "plt.title(stock + ' Stock Price Prediction')\n",
    "plt.xlabel('Time')\n",
    "plt.ylabel(stock + ' Stock Price')\n",
    "plt.xticks(rotation=45)\n",
    "plt.legend()\n",
    "plt.show()"
   ]
  },
  {
   "cell_type": "code",
   "execution_count": 32,
   "metadata": {},
   "outputs": [
    {
     "name": "stdout",
     "output_type": "stream",
     "text": [
      "The root mean squared error for 1-day Naive is 12.612105011800578.\n",
      "The root mean squared error for 1-day RNN is 77.36602373713649.\n",
      "The root mean squared error for RNN is 124.23227381885866.\n",
      "The root mean squared error for Holt-Winters is 188.16790642242188.\n"
     ]
    }
   ],
   "source": [
    "# Evaluating our models with RMSE.\n",
    "rnn_rmse = math.sqrt(mean_squared_error(test_set, predicted_set))\n",
    "rnn_rmse_1day = math.sqrt(mean_squared_error(test_set, predicted_set_1day))\n",
    "rnn_rmse_naive = math.sqrt(mean_squared_error(test_set, predicted_set_naive))\n",
    "hw_rmse = math.sqrt(mean_squared_error(test, pred))\n",
    "\n",
    "print(\"The root mean squared error for 1-day Naive is {}.\".format(rnn_rmse_naive))\n",
    "print(\"The root mean squared error for 1-day RNN is {}.\".format(rnn_rmse_1day))\n",
    "print(\"The root mean squared error for RNN is {}.\".format(rnn_rmse))\n",
    "print(\"The root mean squared error for Holt-Winters is {}.\".format(hw_rmse))"
   ]
  },
  {
   "cell_type": "code",
   "execution_count": null,
   "metadata": {},
   "outputs": [],
   "source": []
  }
 ],
 "metadata": {
  "kernelspec": {
   "display_name": "Python 3",
   "language": "python",
   "name": "python3"
  },
  "language_info": {
   "codemirror_mode": {
    "name": "ipython",
    "version": 3
   },
   "file_extension": ".py",
   "mimetype": "text/x-python",
   "name": "python",
   "nbconvert_exporter": "python",
   "pygments_lexer": "ipython3",
   "version": "3.8.5"
  }
 },
 "nbformat": 4,
 "nbformat_minor": 4
}
