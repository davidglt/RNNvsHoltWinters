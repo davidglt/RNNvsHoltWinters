{
 "cells": [
  {
   "cell_type": "code",
   "execution_count": 1,
   "metadata": {},
   "outputs": [],
   "source": [
    "import math\n",
    "import numpy as np\n",
    "import matplotlib.pyplot as plt\n",
    "import pandas as pd\n",
    "import datetime\n",
    "from sklearn.preprocessing import MinMaxScaler\n",
    "from sklearn.metrics import mean_squared_error\n",
    "from keras.models import Sequential\n",
    "from keras.layers import Dense, LSTM, Dropout\n",
    "from statsmodels.tsa.holtwinters import ExponentialSmoothing"
   ]
  },
  {
   "cell_type": "code",
   "execution_count": 2,
   "metadata": {},
   "outputs": [],
   "source": [
    "# Convert an array of values into a dataset matrix.\n",
    "def create_dataset(dataset, memory=1):\n",
    "    dataX, dataY = [], []\n",
    "    for i in range(len(dataset) - memory - 1):\n",
    "        a = dataset[i:(i + memory), 0]\n",
    "        dataX.append(a)\n",
    "        dataY.append(dataset[i + memory, 0])\n",
    "    return np.array(dataX), np.array(dataY)"
   ]
  },
  {
   "cell_type": "code",
   "execution_count": 3,
   "metadata": {
    "scrolled": false
   },
   "outputs": [],
   "source": [
    "# Loading data with column date as index.\n",
    "# Folder.\n",
    "dataset_folder=\"dataset\"\n",
    "\n",
    "# Dataset file\n",
    "# It's very easy download from Yahoo finantial if you want data updated.\n",
    "filename=\"AMZN_2006-01-01_to_2018-01-01.csv\"\n",
    "#filename=\"GOOGL_2006-01-01_to_2018-01-01.csv\"\n",
    "#filename=\"IBM_2006-01-01_to_2018-01-01.csv\"\n",
    "\n",
    "dataset = pd.read_csv(dataset_folder + \"/\" + filename, index_col='Date', parse_dates=True)"
   ]
  },
  {
   "cell_type": "code",
   "execution_count": 4,
   "metadata": {
    "scrolled": true
   },
   "outputs": [
    {
     "data": {
      "text/html": [
       "<div>\n",
       "<style scoped>\n",
       "    .dataframe tbody tr th:only-of-type {\n",
       "        vertical-align: middle;\n",
       "    }\n",
       "\n",
       "    .dataframe tbody tr th {\n",
       "        vertical-align: top;\n",
       "    }\n",
       "\n",
       "    .dataframe thead th {\n",
       "        text-align: right;\n",
       "    }\n",
       "</style>\n",
       "<table border=\"1\" class=\"dataframe\">\n",
       "  <thead>\n",
       "    <tr style=\"text-align: right;\">\n",
       "      <th></th>\n",
       "      <th>Open</th>\n",
       "      <th>High</th>\n",
       "      <th>Low</th>\n",
       "      <th>Close</th>\n",
       "      <th>Volume</th>\n",
       "      <th>Name</th>\n",
       "    </tr>\n",
       "    <tr>\n",
       "      <th>Date</th>\n",
       "      <th></th>\n",
       "      <th></th>\n",
       "      <th></th>\n",
       "      <th></th>\n",
       "      <th></th>\n",
       "      <th></th>\n",
       "    </tr>\n",
       "  </thead>\n",
       "  <tbody>\n",
       "    <tr>\n",
       "      <th>2006-01-03</th>\n",
       "      <td>47.47</td>\n",
       "      <td>47.85</td>\n",
       "      <td>46.25</td>\n",
       "      <td>47.58</td>\n",
       "      <td>7582127</td>\n",
       "      <td>AMZN</td>\n",
       "    </tr>\n",
       "    <tr>\n",
       "      <th>2006-01-04</th>\n",
       "      <td>47.48</td>\n",
       "      <td>47.73</td>\n",
       "      <td>46.69</td>\n",
       "      <td>47.25</td>\n",
       "      <td>7440914</td>\n",
       "      <td>AMZN</td>\n",
       "    </tr>\n",
       "    <tr>\n",
       "      <th>2006-01-05</th>\n",
       "      <td>47.16</td>\n",
       "      <td>48.20</td>\n",
       "      <td>47.11</td>\n",
       "      <td>47.65</td>\n",
       "      <td>5417258</td>\n",
       "      <td>AMZN</td>\n",
       "    </tr>\n",
       "    <tr>\n",
       "      <th>2006-01-06</th>\n",
       "      <td>47.97</td>\n",
       "      <td>48.58</td>\n",
       "      <td>47.32</td>\n",
       "      <td>47.87</td>\n",
       "      <td>6154285</td>\n",
       "      <td>AMZN</td>\n",
       "    </tr>\n",
       "    <tr>\n",
       "      <th>2006-01-09</th>\n",
       "      <td>46.55</td>\n",
       "      <td>47.10</td>\n",
       "      <td>46.40</td>\n",
       "      <td>47.08</td>\n",
       "      <td>8945056</td>\n",
       "      <td>AMZN</td>\n",
       "    </tr>\n",
       "  </tbody>\n",
       "</table>\n",
       "</div>"
      ],
      "text/plain": [
       "             Open   High    Low  Close   Volume  Name\n",
       "Date                                                 \n",
       "2006-01-03  47.47  47.85  46.25  47.58  7582127  AMZN\n",
       "2006-01-04  47.48  47.73  46.69  47.25  7440914  AMZN\n",
       "2006-01-05  47.16  48.20  47.11  47.65  5417258  AMZN\n",
       "2006-01-06  47.97  48.58  47.32  47.87  6154285  AMZN\n",
       "2006-01-09  46.55  47.10  46.40  47.08  8945056  AMZN"
      ]
     },
     "execution_count": 4,
     "metadata": {},
     "output_type": "execute_result"
    }
   ],
   "source": [
    "# Preview the data.\n",
    "dataset.head()"
   ]
  },
  {
   "cell_type": "code",
   "execution_count": 5,
   "metadata": {
    "scrolled": true
   },
   "outputs": [
    {
     "data": {
      "text/plain": [
       "Open      0\n",
       "High      0\n",
       "Low       0\n",
       "Close     0\n",
       "Volume    0\n",
       "Name      0\n",
       "dtype: int64"
      ]
     },
     "execution_count": 5,
     "metadata": {},
     "output_type": "execute_result"
    }
   ],
   "source": [
    "# Searching null values.\n",
    "dataset.isnull().sum()"
   ]
  },
  {
   "cell_type": "code",
   "execution_count": 6,
   "metadata": {},
   "outputs": [],
   "source": [
    "# Replacing null values by its mean value.\n",
    "dataset.replace(np.NAN, dataset.mean(), inplace=True)"
   ]
  },
  {
   "cell_type": "code",
   "execution_count": 7,
   "metadata": {},
   "outputs": [],
   "source": [
    "# Forecast between these dates\n",
    "test_start_date = datetime.datetime.strptime('2017-01-01', '%Y-%m-%d')\n",
    "test_end_date = datetime.datetime.strptime('2017-12-31', '%Y-%m-%d')"
   ]
  },
  {
   "cell_type": "code",
   "execution_count": 8,
   "metadata": {},
   "outputs": [],
   "source": [
    "# Column to be selected.\n",
    "column=1\n",
    "data_set = dataset.iloc[:, column:column+1]"
   ]
  },
  {
   "cell_type": "code",
   "execution_count": 9,
   "metadata": {},
   "outputs": [
    {
     "data": {
      "text/html": [
       "<div>\n",
       "<style scoped>\n",
       "    .dataframe tbody tr th:only-of-type {\n",
       "        vertical-align: middle;\n",
       "    }\n",
       "\n",
       "    .dataframe tbody tr th {\n",
       "        vertical-align: top;\n",
       "    }\n",
       "\n",
       "    .dataframe thead th {\n",
       "        text-align: right;\n",
       "    }\n",
       "</style>\n",
       "<table border=\"1\" class=\"dataframe\">\n",
       "  <thead>\n",
       "    <tr style=\"text-align: right;\">\n",
       "      <th></th>\n",
       "      <th>High</th>\n",
       "    </tr>\n",
       "    <tr>\n",
       "      <th>Date</th>\n",
       "      <th></th>\n",
       "    </tr>\n",
       "  </thead>\n",
       "  <tbody>\n",
       "    <tr>\n",
       "      <th>2006-01-03</th>\n",
       "      <td>47.85</td>\n",
       "    </tr>\n",
       "    <tr>\n",
       "      <th>2006-01-04</th>\n",
       "      <td>47.73</td>\n",
       "    </tr>\n",
       "    <tr>\n",
       "      <th>2006-01-05</th>\n",
       "      <td>48.20</td>\n",
       "    </tr>\n",
       "    <tr>\n",
       "      <th>2006-01-06</th>\n",
       "      <td>48.58</td>\n",
       "    </tr>\n",
       "    <tr>\n",
       "      <th>2006-01-09</th>\n",
       "      <td>47.10</td>\n",
       "    </tr>\n",
       "    <tr>\n",
       "      <th>...</th>\n",
       "      <td>...</td>\n",
       "    </tr>\n",
       "    <tr>\n",
       "      <th>2017-12-22</th>\n",
       "      <td>1174.62</td>\n",
       "    </tr>\n",
       "    <tr>\n",
       "      <th>2017-12-26</th>\n",
       "      <td>1178.32</td>\n",
       "    </tr>\n",
       "    <tr>\n",
       "      <th>2017-12-27</th>\n",
       "      <td>1187.29</td>\n",
       "    </tr>\n",
       "    <tr>\n",
       "      <th>2017-12-28</th>\n",
       "      <td>1190.10</td>\n",
       "    </tr>\n",
       "    <tr>\n",
       "      <th>2017-12-29</th>\n",
       "      <td>1184.00</td>\n",
       "    </tr>\n",
       "  </tbody>\n",
       "</table>\n",
       "<p>3019 rows × 1 columns</p>\n",
       "</div>"
      ],
      "text/plain": [
       "               High\n",
       "Date               \n",
       "2006-01-03    47.85\n",
       "2006-01-04    47.73\n",
       "2006-01-05    48.20\n",
       "2006-01-06    48.58\n",
       "2006-01-09    47.10\n",
       "...             ...\n",
       "2017-12-22  1174.62\n",
       "2017-12-26  1178.32\n",
       "2017-12-27  1187.29\n",
       "2017-12-28  1190.10\n",
       "2017-12-29  1184.00\n",
       "\n",
       "[3019 rows x 1 columns]"
      ]
     },
     "execution_count": 9,
     "metadata": {},
     "output_type": "execute_result"
    }
   ],
   "source": [
    "data_set"
   ]
  },
  {
   "cell_type": "code",
   "execution_count": 10,
   "metadata": {},
   "outputs": [],
   "source": [
    "# We split the data into training and test sets.\n",
    "training_set = data_set[:test_start_date - datetime.timedelta(1)]\n",
    "test_set = data_set[test_start_date:test_end_date]"
   ]
  },
  {
   "cell_type": "code",
   "execution_count": 11,
   "metadata": {},
   "outputs": [],
   "source": [
    "# Normalize between 0,1 the datasets.\n",
    "scaler = MinMaxScaler(feature_range=(0,1))\n",
    "scaler.fit(data_set)\n",
    "data_set_scaled = scaler.transform(data_set)\n",
    "training_set_scaled = scaler.transform(training_set)\n",
    "test_set_scaled = scaler.transform(test_set)"
   ]
  },
  {
   "cell_type": "code",
   "execution_count": 12,
   "metadata": {},
   "outputs": [
    {
     "data": {
      "image/png": "[encoded data removed]",
      "text/plain": [
       "<Figure size 432x288 with 1 Axes>"
      ]
     },
     "metadata": {
      "needs_background": "light"
     },
     "output_type": "display_data"
    }
   ],
   "source": [
    "# Plotting training and test sets.\n",
    "stock = filename.split(\"_\",1)[0]\n",
    "plt.plot(training_set)\n",
    "plt.plot(test_set)\n",
    "plt.title(stock + ' stock price')\n",
    "plt.legend(['Training set', 'Test set'])\n",
    "plt.ylabel(dataset.columns[column] + ' column')\n",
    "plt.xticks(rotation=45)\n",
    "plt.show()"
   ]
  },
  {
   "cell_type": "code",
   "execution_count": 13,
   "metadata": {},
   "outputs": [],
   "source": [
    "# We define the memory for our LSTM.\n",
    "memory = 60\n",
    "X_train, y_train = create_dataset(training_set_scaled, memory)"
   ]
  },
  {
   "cell_type": "code",
   "execution_count": 14,
   "metadata": {},
   "outputs": [
    {
     "name": "stdout",
     "output_type": "stream",
     "text": [
      "(2707, 60)\n",
      "0.00892925\n",
      "[0.00892925]\n",
      "[0.01805224 0.01844816 0.01876827 0.01752154 0.01722671 0.01634221\n",
      " 0.01582836 0.01562618 0.01517972 0.01540717 0.01595471 0.01521342\n",
      " 0.01554195 0.01527238 0.01530608 0.01556722 0.01593787 0.01656965\n",
      " 0.01592944 0.0154914  0.01494386 0.01027706 0.01014228 0.01002434\n",
      " 0.0101844  0.01069825 0.01029391 0.01020967 0.01026864 0.01093412\n",
      " 0.01154063 0.01101836 0.01079091 0.01078249 0.01048765 0.01020125\n",
      " 0.01051293 0.00993168 0.00959473 0.00901349 0.00971266 0.00950207\n",
      " 0.00936729 0.00940941 0.00897979 0.0085923  0.00870181 0.00901349\n",
      " 0.00901349 0.00934202 0.00899664 0.00924093 0.00878604 0.00862599\n",
      " 0.00845751 0.00827219 0.00788469 0.00818795 0.00885343 0.00892925]\n"
     ]
    }
   ],
   "source": [
    "# Checking the data shaping.\n",
    "print(X_train.shape)\n",
    "print('{:.8f}'.format(y_train[0]))\n",
    "print(data_set_scaled[memory])\n",
    "# Last digit must be the same.\n",
    "print(X_train[1,:])"
   ]
  },
  {
   "cell_type": "code",
   "execution_count": 15,
   "metadata": {},
   "outputs": [],
   "source": [
    "# Reshape input to be [samples=X_train.shape[0], time steps=X_train.shape[1], features=1].\n",
    "X_train = np.reshape(X_train, (X_train.shape[0], X_train.shape[1], 1))"
   ]
  },
  {
   "cell_type": "code",
   "execution_count": 16,
   "metadata": {},
   "outputs": [
    {
     "data": {
      "text/plain": [
       "(2707, 60, 1)"
      ]
     },
     "execution_count": 16,
     "metadata": {},
     "output_type": "execute_result"
    }
   ],
   "source": [
    "X_train.shape"
   ]
  },
  {
   "cell_type": "code",
   "execution_count": 17,
   "metadata": {
    "scrolled": true
   },
   "outputs": [],
   "source": [
    "# Design of the LSTM RNN.\n",
    "# input_shape (batch_size: set up in the fitting phase as batch_size , time_steps, seq_len).\n",
    "\n",
    "model = Sequential()\n",
    "\n",
    "# Input layer.\n",
    "model.add(LSTM(units=50, return_sequences=True, input_shape=(memory, 1)))\n",
    "\n",
    "# Intermediate layers.\n",
    "model.add(LSTM(units=50, return_sequences=True))\n",
    "model.add(Dropout(0.2))\n",
    "model.add(LSTM(units=50, return_sequences=False))\n",
    "model.add(Dense(units=25))\n",
    "\n",
    "# Output layer.\n",
    "model.add(Dense(units=1))\n",
    "\n",
    "# Compiling.\n",
    "model.compile(optimizer='adam', loss='mean_squared_error')"
   ]
  },
  {
   "cell_type": "code",
   "execution_count": 18,
   "metadata": {
    "scrolled": false
   },
   "outputs": [
    {
     "name": "stdout",
     "output_type": "stream",
     "text": [
      "Model: \"sequential\"\n",
      "_________________________________________________________________\n",
      "Layer (type)                 Output Shape              Param #   \n",
      "=================================================================\n",
      "lstm (LSTM)                  (None, 60, 50)            10400     \n",
      "_________________________________________________________________\n",
      "lstm_1 (LSTM)                (None, 60, 50)            20200     \n",
      "_________________________________________________________________\n",
      "dropout (Dropout)            (None, 60, 50)            0         \n",
      "_________________________________________________________________\n",
      "lstm_2 (LSTM)                (None, 50)                20200     \n",
      "_________________________________________________________________\n",
      "dense (Dense)                (None, 25)                1275      \n",
      "_________________________________________________________________\n",
      "dense_1 (Dense)              (None, 1)                 26        \n",
      "=================================================================\n",
      "Total params: 52,101\n",
      "Trainable params: 52,101\n",
      "Non-trainable params: 0\n",
      "_________________________________________________________________\n"
     ]
    }
   ],
   "source": [
    "# Summary.\n",
    "model.summary()"
   ]
  },
  {
   "cell_type": "code",
   "execution_count": 19,
   "metadata": {},
   "outputs": [],
   "source": [
    "# Prepairing the memory for the first value (the last value of the traninig data set).\n",
    "inputs = data_set_scaled[len(data_set) - len(test_set) - memory:len(data_set) - len(test_set) - 1]"
   ]
  },
  {
   "cell_type": "code",
   "execution_count": 20,
   "metadata": {
    "scrolled": true
   },
   "outputs": [
    {
     "name": "stdout",
     "output_type": "stream",
     "text": [
      "Epoch 1/100\n",
      "542/542 [==============================] - 9s 17ms/step - loss: 8.9740e-04\n",
      "Epoch 2/100\n",
      "542/542 [==============================] - 10s 18ms/step - loss: 4.4297e-04\n",
      "Epoch 3/100\n",
      "542/542 [==============================] - 9s 18ms/step - loss: 2.8970e-04\n",
      "Epoch 4/100\n",
      "542/542 [==============================] - 9s 17ms/step - loss: 2.5931e-04\n",
      "Epoch 5/100\n",
      "542/542 [==============================] - 9s 17ms/step - loss: 2.4675e-04\n",
      "Epoch 6/100\n",
      "542/542 [==============================] - 9s 17ms/step - loss: 2.6103e-04\n",
      "Epoch 7/100\n",
      "542/542 [==============================] - 9s 17ms/step - loss: 2.0739e-04\n",
      "Epoch 8/100\n",
      "542/542 [==============================] - 9s 17ms/step - loss: 1.7847e-04\n",
      "Epoch 9/100\n",
      "542/542 [==============================] - 9s 17ms/step - loss: 2.2108e-04\n",
      "Epoch 10/100\n",
      "542/542 [==============================] - 9s 17ms/step - loss: 1.6866e-04\n",
      "Epoch 11/100\n",
      "542/542 [==============================] - 9s 17ms/step - loss: 1.8390e-04\n",
      "Epoch 12/100\n",
      "542/542 [==============================] - 9s 17ms/step - loss: 1.9124e-04\n",
      "Epoch 13/100\n",
      "542/542 [==============================] - 9s 17ms/step - loss: 1.3532e-04\n",
      "Epoch 14/100\n",
      "542/542 [==============================] - 9s 17ms/step - loss: 1.7672e-04\n",
      "Epoch 15/100\n",
      "542/542 [==============================] - 9s 17ms/step - loss: 1.4354e-04\n",
      "Epoch 16/100\n",
      "542/542 [==============================] - 9s 17ms/step - loss: 1.4745e-04\n",
      "Epoch 17/100\n",
      "542/542 [==============================] - 9s 17ms/step - loss: 1.3479e-04\n",
      "Epoch 18/100\n",
      "542/542 [==============================] - 9s 17ms/step - loss: 1.1549e-04\n",
      "Epoch 19/100\n",
      "542/542 [==============================] - 9s 17ms/step - loss: 1.4954e-04\n",
      "Epoch 20/100\n",
      "542/542 [==============================] - 9s 17ms/step - loss: 1.2111e-04\n",
      "Epoch 21/100\n",
      "542/542 [==============================] - 9s 17ms/step - loss: 1.0827e-04\n",
      "Epoch 22/100\n",
      "542/542 [==============================] - 9s 17ms/step - loss: 1.1517e-04\n",
      "Epoch 23/100\n",
      "542/542 [==============================] - 9s 17ms/step - loss: 1.0826e-04\n",
      "Epoch 24/100\n",
      "542/542 [==============================] - 10s 18ms/step - loss: 1.1100e-04\n",
      "Epoch 25/100\n",
      "542/542 [==============================] - 9s 17ms/step - loss: 9.7883e-05\n",
      "Epoch 26/100\n",
      "542/542 [==============================] - 9s 17ms/step - loss: 9.4371e-05\n",
      "Epoch 27/100\n",
      "542/542 [==============================] - 9s 18ms/step - loss: 9.4497e-05\n",
      "Epoch 28/100\n",
      "542/542 [==============================] - 9s 17ms/step - loss: 9.1632e-05\n",
      "Epoch 29/100\n",
      "542/542 [==============================] - 9s 18ms/step - loss: 8.7012e-05\n",
      "Epoch 30/100\n",
      "542/542 [==============================] - 9s 17ms/step - loss: 1.1046e-04\n",
      "Epoch 31/100\n",
      "542/542 [==============================] - 9s 17ms/step - loss: 9.5023e-05\n",
      "Epoch 32/100\n",
      "542/542 [==============================] - 9s 17ms/step - loss: 9.8592e-05\n",
      "Epoch 33/100\n",
      "542/542 [==============================] - 9s 17ms/step - loss: 7.8864e-05\n",
      "Epoch 34/100\n",
      "542/542 [==============================] - 9s 17ms/step - loss: 8.7696e-05\n",
      "Epoch 35/100\n",
      "542/542 [==============================] - 9s 17ms/step - loss: 9.1414e-05\n",
      "Epoch 36/100\n",
      "542/542 [==============================] - 9s 17ms/step - loss: 9.3674e-05\n",
      "Epoch 37/100\n",
      "542/542 [==============================] - 9s 17ms/step - loss: 8.2742e-05\n",
      "Epoch 38/100\n",
      "542/542 [==============================] - 9s 17ms/step - loss: 8.9291e-05\n",
      "Epoch 39/100\n",
      "542/542 [==============================] - 9s 17ms/step - loss: 9.6124e-05\n",
      "Epoch 40/100\n",
      "542/542 [==============================] - 9s 17ms/step - loss: 8.5177e-05\n",
      "Epoch 41/100\n",
      "542/542 [==============================] - 9s 17ms/step - loss: 8.5454e-05\n",
      "Epoch 42/100\n",
      "542/542 [==============================] - 9s 17ms/step - loss: 8.4795e-05\n",
      "Epoch 43/100\n",
      "542/542 [==============================] - 9s 18ms/step - loss: 7.1006e-05\n",
      "Epoch 44/100\n",
      "542/542 [==============================] - 9s 17ms/step - loss: 8.7314e-05\n",
      "Epoch 45/100\n",
      "542/542 [==============================] - 9s 17ms/step - loss: 8.8166e-05\n",
      "Epoch 46/100\n",
      "542/542 [==============================] - 9s 17ms/step - loss: 7.7201e-05\n",
      "Epoch 47/100\n",
      "542/542 [==============================] - 9s 17ms/step - loss: 8.0507e-05\n",
      "Epoch 48/100\n",
      "542/542 [==============================] - 9s 17ms/step - loss: 7.9833e-05\n",
      "Epoch 49/100\n",
      "542/542 [==============================] - 9s 17ms/step - loss: 6.9727e-05\n",
      "Epoch 50/100\n",
      "542/542 [==============================] - 10s 18ms/step - loss: 9.4829e-05\n",
      "Epoch 51/100\n",
      "542/542 [==============================] - 10s 18ms/step - loss: 7.5328e-05\n",
      "Epoch 52/100\n",
      "542/542 [==============================] - 10s 18ms/step - loss: 8.9090e-05\n",
      "Epoch 53/100\n",
      "542/542 [==============================] - 9s 17ms/step - loss: 7.7742e-05\n",
      "Epoch 54/100\n",
      "542/542 [==============================] - 9s 17ms/step - loss: 7.9701e-05\n",
      "Epoch 55/100\n",
      "542/542 [==============================] - 9s 17ms/step - loss: 7.5699e-05\n",
      "Epoch 56/100\n",
      "542/542 [==============================] - 9s 17ms/step - loss: 7.0690e-05\n",
      "Epoch 57/100\n",
      "542/542 [==============================] - 9s 17ms/step - loss: 8.9990e-05\n",
      "Epoch 58/100\n",
      "542/542 [==============================] - 9s 17ms/step - loss: 7.9347e-05\n",
      "Epoch 59/100\n",
      "542/542 [==============================] - 9s 17ms/step - loss: 7.2803e-05\n",
      "Epoch 60/100\n",
      "542/542 [==============================] - 9s 17ms/step - loss: 8.1760e-05\n",
      "Epoch 61/100\n",
      "542/542 [==============================] - 9s 17ms/step - loss: 6.1398e-05\n",
      "Epoch 62/100\n",
      "542/542 [==============================] - 9s 17ms/step - loss: 6.7803e-05\n",
      "Epoch 63/100\n",
      "542/542 [==============================] - 9s 17ms/step - loss: 8.0192e-05\n",
      "Epoch 64/100\n",
      "542/542 [==============================] - 9s 17ms/step - loss: 7.7953e-05\n",
      "Epoch 65/100\n",
      "542/542 [==============================] - 9s 17ms/step - loss: 6.0690e-05\n",
      "Epoch 66/100\n",
      "542/542 [==============================] - 9s 17ms/step - loss: 6.6071e-05\n",
      "Epoch 67/100\n",
      "542/542 [==============================] - 9s 17ms/step - loss: 6.8832e-05\n",
      "Epoch 68/100\n",
      "542/542 [==============================] - 9s 17ms/step - loss: 6.2395e-05\n",
      "Epoch 69/100\n",
      "542/542 [==============================] - 9s 17ms/step - loss: 7.8213e-05\n",
      "Epoch 70/100\n",
      "542/542 [==============================] - 9s 17ms/step - loss: 7.3666e-05\n",
      "Epoch 71/100\n",
      "542/542 [==============================] - 9s 17ms/step - loss: 5.8961e-05\n",
      "Epoch 72/100\n",
      "542/542 [==============================] - 9s 17ms/step - loss: 6.6748e-05\n",
      "Epoch 73/100\n",
      "542/542 [==============================] - 9s 17ms/step - loss: 7.3026e-05\n",
      "Epoch 74/100\n",
      "542/542 [==============================] - 9s 17ms/step - loss: 6.4464e-05\n",
      "Epoch 75/100\n",
      "542/542 [==============================] - 9s 17ms/step - loss: 6.6421e-05\n",
      "Epoch 76/100\n",
      "542/542 [==============================] - 9s 17ms/step - loss: 5.6889e-05\n",
      "Epoch 77/100\n",
      "542/542 [==============================] - 9s 17ms/step - loss: 6.0547e-05\n",
      "Epoch 78/100\n",
      "542/542 [==============================] - 9s 17ms/step - loss: 5.4628e-05\n",
      "Epoch 79/100\n",
      "542/542 [==============================] - 9s 17ms/step - loss: 6.6367e-05\n",
      "Epoch 80/100\n",
      "542/542 [==============================] - 9s 17ms/step - loss: 6.5181e-05\n",
      "Epoch 81/100\n",
      "542/542 [==============================] - 9s 17ms/step - loss: 6.2180e-05\n",
      "Epoch 82/100\n",
      "542/542 [==============================] - 9s 17ms/step - loss: 6.3023e-05\n",
      "Epoch 83/100\n",
      "542/542 [==============================] - 9s 17ms/step - loss: 6.6207e-05\n",
      "Epoch 84/100\n",
      "542/542 [==============================] - 9s 17ms/step - loss: 5.4378e-05\n",
      "Epoch 85/100\n",
      "542/542 [==============================] - 9s 17ms/step - loss: 5.9117e-05\n",
      "Epoch 86/100\n",
      "542/542 [==============================] - 9s 17ms/step - loss: 5.7912e-05\n",
      "Epoch 87/100\n",
      "542/542 [==============================] - 9s 17ms/step - loss: 5.5585e-05\n",
      "Epoch 88/100\n",
      "542/542 [==============================] - 9s 18ms/step - loss: 6.1334e-05\n",
      "Epoch 89/100\n",
      "542/542 [==============================] - 9s 17ms/step - loss: 6.2366e-05\n",
      "Epoch 90/100\n",
      "542/542 [==============================] - 9s 17ms/step - loss: 5.8301e-05\n",
      "Epoch 91/100\n",
      "542/542 [==============================] - 9s 17ms/step - loss: 5.5759e-05\n",
      "Epoch 92/100\n",
      "542/542 [==============================] - 9s 17ms/step - loss: 5.8072e-05\n",
      "Epoch 93/100\n",
      "542/542 [==============================] - 9s 17ms/step - loss: 5.3117e-05\n",
      "Epoch 94/100\n"
     ]
    },
    {
     "name": "stdout",
     "output_type": "stream",
     "text": [
      "542/542 [==============================] - 9s 17ms/step - loss: 5.5703e-05\n",
      "Epoch 95/100\n",
      "542/542 [==============================] - 9s 17ms/step - loss: 5.4057e-05\n",
      "Epoch 96/100\n",
      "542/542 [==============================] - 9s 17ms/step - loss: 5.6951e-05\n",
      "Epoch 97/100\n",
      "542/542 [==============================] - 9s 17ms/step - loss: 6.3400e-05\n",
      "Epoch 98/100\n",
      "542/542 [==============================] - 9s 17ms/step - loss: 5.3621e-05\n",
      "Epoch 99/100\n",
      "542/542 [==============================] - 9s 17ms/step - loss: 6.6650e-05\n",
      "Epoch 100/100\n",
      "542/542 [==============================] - 9s 17ms/step - loss: 6.2734e-05\n"
     ]
    },
    {
     "data": {
      "text/plain": [
       "<tensorflow.python.keras.callbacks.History at 0x7f6e2c34ff40>"
      ]
     },
     "execution_count": 20,
     "metadata": {},
     "output_type": "execute_result"
    }
   ],
   "source": [
    "# Fitting.\n",
    "model.fit(X_train, y_train, epochs=100, batch_size=5)"
   ]
  },
  {
   "cell_type": "code",
   "execution_count": 21,
   "metadata": {},
   "outputs": [],
   "source": [
    "# We want a large forecast not only one day value.\n",
    "predicted_stock_price = np.array(training_set_scaled[-1])\n",
    "for i in range(len(test_set)):\n",
    "    inputs = np.vstack([inputs, predicted_stock_price[i]])\n",
    "    X_test = np.array(inputs[i:])\n",
    "    X_test = np.reshape(X_test, (1, X_test.shape[0], 1))\n",
    "    predicted_stock_price = np.vstack([predicted_stock_price, model.predict(X_test)])\n",
    "\n",
    "predicted_stock_price = scaler.inverse_transform(predicted_stock_price[1:])"
   ]
  },
  {
   "cell_type": "code",
   "execution_count": 22,
   "metadata": {},
   "outputs": [
    {
     "name": "stdout",
     "output_type": "stream",
     "text": [
      "[758.76]\n",
      "[790.71406543]\n"
     ]
    }
   ],
   "source": [
    "# Checking the first forecast value vs the first test value.\n",
    "print(test_set.iloc[0].values)\n",
    "print(predicted_stock_price[0])"
   ]
  },
  {
   "cell_type": "code",
   "execution_count": 23,
   "metadata": {},
   "outputs": [],
   "source": [
    "predicted_set = pd.DataFrame(data=predicted_stock_price, index=dataset[test_start_date:test_end_date].index, columns=[column])"
   ]
  },
  {
   "cell_type": "code",
   "execution_count": 24,
   "metadata": {},
   "outputs": [],
   "source": [
    "# 1day RNN, only ONE day predicted every step.\n",
    "inputs = data_set_scaled[len(data_set)-len(test_set)-memory:]\n",
    "inputs = inputs.reshape(-1,1)\n",
    "X_test = []\n",
    "for i in range(memory, inputs.shape[0]):\n",
    "    X_test.append(inputs[i-memory:i,0])\n",
    "X_test = np.array(X_test)\n",
    "X_test = np.reshape(X_test, (X_test.shape[0], X_test.shape[1], 1))\n",
    "predicted_stock_price_1day = model.predict(X_test)\n",
    "predicted_stock_price_1day = scaler.inverse_transform(predicted_stock_price_1day)\n",
    "predicted_set_1day = pd.DataFrame(data=predicted_stock_price_1day,\n",
    "                                  index=dataset[test_start_date:test_end_date].index, columns=[column])"
   ]
  },
  {
   "cell_type": "code",
   "execution_count": 25,
   "metadata": {},
   "outputs": [],
   "source": [
    "# Naive RNN, the next predicted value is the today value.\n",
    "predicted_set_naive = pd.concat([training_set[-1:], test_set[0:-1]])"
   ]
  },
  {
   "cell_type": "code",
   "execution_count": 26,
   "metadata": {
    "scrolled": true
   },
   "outputs": [
    {
     "name": "stderr",
     "output_type": "stream",
     "text": [
      "/home/davidglt/RNNvsHoltWinters/lib/python3.8/site-packages/statsmodels/tsa/holtwinters.py:743: ConvergenceWarning: Optimization failed to converge. Check mle_retvals.\n",
      "  warn(\"Optimization failed to converge. Check mle_retvals.\",\n"
     ]
    }
   ],
   "source": [
    "# Holt-Winters algorithm running.\n",
    "# Each year we have the same periods: summer holidays, Easter, Chrismas...\n",
    "# We have 252 business days per year.\n",
    "season=252\n",
    "\n",
    "df = dataset.resample('B').mean().ffill()\n",
    "train, test = df[:test_start_date - datetime.timedelta(1)].iloc[:,column], \\\n",
    "              df[test_start_date:test_end_date].iloc[:,column]\n",
    "model = ExponentialSmoothing(train, seasonal='mul', seasonal_periods=season).fit()\n",
    "pred = model.predict(start=test.index[0], end=test.index[-1])"
   ]
  },
  {
   "cell_type": "code",
   "execution_count": 27,
   "metadata": {
    "scrolled": false
   },
   "outputs": [
    {
     "data": {
      "image/png": "[encoded data removed]",
      "text/plain": [
       "<Figure size 432x288 with 1 Axes>"
      ]
     },
     "metadata": {
      "needs_background": "light"
     },
     "output_type": "display_data"
    }
   ],
   "source": [
    "# Plotting the graphs.\n",
    "plt.plot(test_set, color='red', label='Real ' + stock + ' Stock Price')\n",
    "plt.plot(predicted_set, color='blue', label='LSTM RNN')\n",
    "plt.plot(predicted_set_1day, color='black', label='LSTM RNN 1Day')\n",
    "plt.plot(predicted_set_naive, color='purple', label='LSTM RNN Naive')\n",
    "plt.plot(pred, color='green', label='Holt-Winters')\n",
    "plt.title(stock + ' Stock Price Prediction')\n",
    "plt.xlabel('Time')\n",
    "plt.ylabel(stock + ' Stock Price')\n",
    "plt.xticks(rotation=45)\n",
    "plt.legend()\n",
    "plt.show()"
   ]
  },
  {
   "cell_type": "code",
   "execution_count": 28,
   "metadata": {},
   "outputs": [
    {
     "name": "stdout",
     "output_type": "stream",
     "text": [
      "The root mean squared error for 1-day Naive is 12.612105011800578.\n",
      "The root mean squared error for 1-day RNN is 50.30442752951308.\n",
      "The root mean squared error for RNN is 126.21208892306974.\n",
      "The root mean squared error for Holt-Winters is 210.6167431928331.\n"
     ]
    }
   ],
   "source": [
    "# Evaluating our models with RMSE.\n",
    "rnn_rmse = math.sqrt(mean_squared_error(test_set, predicted_set))\n",
    "rnn_rmse_1day = math.sqrt(mean_squared_error(test_set, predicted_set_1day))\n",
    "rnn_rmse_naive = math.sqrt(mean_squared_error(test_set, predicted_set_naive))\n",
    "hw_rmse = math.sqrt(mean_squared_error(test, pred))\n",
    "\n",
    "print(\"The root mean squared error for 1-day Naive is {}.\".format(rnn_rmse_naive))\n",
    "print(\"The root mean squared error for 1-day RNN is {}.\".format(rnn_rmse_1day))\n",
    "print(\"The root mean squared error for RNN is {}.\".format(rnn_rmse))\n",
    "print(\"The root mean squared error for Holt-Winters is {}.\".format(hw_rmse))"
   ]
  },
  {
   "cell_type": "code",
   "execution_count": null,
   "metadata": {},
   "outputs": [],
   "source": []
  }
 ],
 "metadata": {
  "kernelspec": {
   "display_name": "Python 3",
   "language": "python",
   "name": "python3"
  },
  "language_info": {
   "codemirror_mode": {
    "name": "ipython",
    "version": 3
   },
   "file_extension": ".py",
   "mimetype": "text/x-python",
   "name": "python",
   "nbconvert_exporter": "python",
   "pygments_lexer": "ipython3",
   "version": "3.8.5"
  }
 },
 "nbformat": 4,
 "nbformat_minor": 4
}
