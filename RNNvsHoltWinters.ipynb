{
 "cells": [
  {
   "cell_type": "code",
   "execution_count": 1,
   "metadata": {},
   "outputs": [],
   "source": [
    "import math\n",
    "import numpy as np\n",
    "import matplotlib.pyplot as plt\n",
    "import pandas as pd\n",
    "import datetime\n",
    "from sklearn.preprocessing import MinMaxScaler\n",
    "from sklearn.metrics import mean_squared_error\n",
    "from keras.models import Sequential\n",
    "from keras.layers import Dense, LSTM, Dropout\n",
    "from statsmodels.tsa.holtwinters import ExponentialSmoothing"
   ]
  },
  {
   "cell_type": "code",
   "execution_count": 2,
   "metadata": {
    "scrolled": false
   },
   "outputs": [],
   "source": [
    "# Loading data with column date as index\n",
    "dataset_folder=\"dataset\"\n",
    "filename=\"IBM_2006-01-01_to_2018-01-01.csv\"\n",
    "\n",
    "dataset = pd.read_csv(dataset_folder + \"/\" + filename, index_col='Date', parse_dates=True)"
   ]
  },
  {
   "cell_type": "code",
   "execution_count": 3,
   "metadata": {},
   "outputs": [
    {
     "data": {
      "text/html": [
       "<div>\n",
       "<style scoped>\n",
       "    .dataframe tbody tr th:only-of-type {\n",
       "        vertical-align: middle;\n",
       "    }\n",
       "\n",
       "    .dataframe tbody tr th {\n",
       "        vertical-align: top;\n",
       "    }\n",
       "\n",
       "    .dataframe thead th {\n",
       "        text-align: right;\n",
       "    }\n",
       "</style>\n",
       "<table border=\"1\" class=\"dataframe\">\n",
       "  <thead>\n",
       "    <tr style=\"text-align: right;\">\n",
       "      <th></th>\n",
       "      <th>Open</th>\n",
       "      <th>High</th>\n",
       "      <th>Low</th>\n",
       "      <th>Close</th>\n",
       "      <th>Volume</th>\n",
       "      <th>Name</th>\n",
       "    </tr>\n",
       "    <tr>\n",
       "      <th>Date</th>\n",
       "      <th></th>\n",
       "      <th></th>\n",
       "      <th></th>\n",
       "      <th></th>\n",
       "      <th></th>\n",
       "      <th></th>\n",
       "    </tr>\n",
       "  </thead>\n",
       "  <tbody>\n",
       "    <tr>\n",
       "      <th>2006-01-03</th>\n",
       "      <td>82.45</td>\n",
       "      <td>82.55</td>\n",
       "      <td>80.81</td>\n",
       "      <td>82.06</td>\n",
       "      <td>11715200</td>\n",
       "      <td>IBM</td>\n",
       "    </tr>\n",
       "    <tr>\n",
       "      <th>2006-01-04</th>\n",
       "      <td>82.20</td>\n",
       "      <td>82.50</td>\n",
       "      <td>81.33</td>\n",
       "      <td>81.95</td>\n",
       "      <td>9840600</td>\n",
       "      <td>IBM</td>\n",
       "    </tr>\n",
       "    <tr>\n",
       "      <th>2006-01-05</th>\n",
       "      <td>81.40</td>\n",
       "      <td>82.90</td>\n",
       "      <td>81.00</td>\n",
       "      <td>82.50</td>\n",
       "      <td>7213500</td>\n",
       "      <td>IBM</td>\n",
       "    </tr>\n",
       "    <tr>\n",
       "      <th>2006-01-06</th>\n",
       "      <td>83.95</td>\n",
       "      <td>85.03</td>\n",
       "      <td>83.41</td>\n",
       "      <td>84.95</td>\n",
       "      <td>8197400</td>\n",
       "      <td>IBM</td>\n",
       "    </tr>\n",
       "    <tr>\n",
       "      <th>2006-01-09</th>\n",
       "      <td>84.10</td>\n",
       "      <td>84.25</td>\n",
       "      <td>83.38</td>\n",
       "      <td>83.73</td>\n",
       "      <td>6858200</td>\n",
       "      <td>IBM</td>\n",
       "    </tr>\n",
       "  </tbody>\n",
       "</table>\n",
       "</div>"
      ],
      "text/plain": [
       "             Open   High    Low  Close    Volume Name\n",
       "Date                                                 \n",
       "2006-01-03  82.45  82.55  80.81  82.06  11715200  IBM\n",
       "2006-01-04  82.20  82.50  81.33  81.95   9840600  IBM\n",
       "2006-01-05  81.40  82.90  81.00  82.50   7213500  IBM\n",
       "2006-01-06  83.95  85.03  83.41  84.95   8197400  IBM\n",
       "2006-01-09  84.10  84.25  83.38  83.73   6858200  IBM"
      ]
     },
     "execution_count": 3,
     "metadata": {},
     "output_type": "execute_result"
    }
   ],
   "source": [
    "# Preview the data\n",
    "dataset.head()"
   ]
  },
  {
   "cell_type": "code",
   "execution_count": 4,
   "metadata": {},
   "outputs": [],
   "source": [
    "# Forecast between these dates\n",
    "test_start_date = datetime.datetime.strptime('2017-01-01', '%Y-%m-%d')\n",
    "test_end_date = datetime.datetime.strptime('2017-12-31', '%Y-%m-%d')"
   ]
  },
  {
   "cell_type": "code",
   "execution_count": 5,
   "metadata": {},
   "outputs": [],
   "source": [
    "# Column to be selected\n",
    "column=1"
   ]
  },
  {
   "cell_type": "code",
   "execution_count": 6,
   "metadata": {},
   "outputs": [],
   "source": [
    "# We split the data into training and test sets\n",
    "# Only we take the High column\n",
    "data_set = dataset.iloc[:, column:column+1]\n",
    "training_set = dataset[:test_start_date - datetime.timedelta(1)].iloc[:, column:column+1]\n",
    "test_set = dataset[test_start_date:test_end_date].iloc[:, column:column+1]"
   ]
  },
  {
   "cell_type": "code",
   "execution_count": 7,
   "metadata": {},
   "outputs": [
    {
     "data": {
      "image/png": "[encoded data removed]",
      "text/plain": [
       "<Figure size 432x288 with 1 Axes>"
      ]
     },
     "metadata": {
      "needs_background": "light"
     },
     "output_type": "display_data"
    }
   ],
   "source": [
    "# Plotting training and test sets\n",
    "stock = filename.split(\"_\",1)[0]\n",
    "plt.plot(training_set)\n",
    "plt.plot(test_set)\n",
    "plt.title(stock + ' stock price')\n",
    "plt.legend(['Training set', 'Test set'])\n",
    "plt.ylabel(dataset.columns[column] + ' column')\n",
    "plt.xticks(rotation=45)\n",
    "plt.show()"
   ]
  },
  {
   "cell_type": "code",
   "execution_count": 8,
   "metadata": {},
   "outputs": [],
   "source": [
    "# Scaling between 0,1 the training data\n",
    "scaler = MinMaxScaler(feature_range=(0,1))\n",
    "training_set_scaled = scaler.fit_transform(training_set)"
   ]
  },
  {
   "cell_type": "code",
   "execution_count": 9,
   "metadata": {},
   "outputs": [],
   "source": [
    "# We prepare the data with memory, each element contain the \"memory\" variable previous training elements \n",
    "memory=260\n",
    "X_train = []\n",
    "y_train = []\n",
    "for i in range(memory, len(training_set_scaled)):\n",
    "    X_train.append(training_set_scaled[i-memory:i])\n",
    "    y_train.append(training_set_scaled[i])\n",
    "X_train, y_train = np.array(X_train), np.array(y_train)"
   ]
  },
  {
   "cell_type": "code",
   "execution_count": 10,
   "metadata": {
    "scrolled": true
   },
   "outputs": [
    {
     "name": "stdout",
     "output_type": "stream",
     "text": [
      "Epoch 1/10\n",
      "502/502 [==============================] - 29s 58ms/step - loss: 0.0121\n",
      "Epoch 2/10\n",
      "502/502 [==============================] - 30s 60ms/step - loss: 0.0060\n",
      "Epoch 3/10\n",
      "502/502 [==============================] - 30s 60ms/step - loss: 0.0045\n",
      "Epoch 4/10\n",
      "502/502 [==============================] - 30s 60ms/step - loss: 0.0035\n",
      "Epoch 5/10\n",
      "502/502 [==============================] - 30s 60ms/step - loss: 0.0030\n",
      "Epoch 6/10\n",
      "502/502 [==============================] - 30s 60ms/step - loss: 0.0027\n",
      "Epoch 7/10\n",
      "502/502 [==============================] - 30s 60ms/step - loss: 0.0024\n",
      "Epoch 8/10\n",
      "502/502 [==============================] - 30s 60ms/step - loss: 0.0022\n",
      "Epoch 9/10\n",
      "502/502 [==============================] - 30s 60ms/step - loss: 0.0022\n",
      "Epoch 10/10\n",
      "502/502 [==============================] - 30s 60ms/step - loss: 0.0019\n"
     ]
    },
    {
     "data": {
      "text/plain": [
       "<tensorflow.python.keras.callbacks.History at 0x7fb640478310>"
      ]
     },
     "execution_count": 10,
     "metadata": {},
     "output_type": "execute_result"
    }
   ],
   "source": [
    "# Design of the LSTM RNN\n",
    "model = Sequential()\n",
    "\n",
    "# Input layer\n",
    "model.add(LSTM(units=50, return_sequences=True, input_shape=(X_train.shape[1], 1)))\n",
    "model.add(Dropout(0.2))\n",
    "\n",
    "# First intermediate layer\n",
    "model.add(LSTM(units=50, return_sequences=True))\n",
    "model.add(Dropout(0.2))\n",
    "\n",
    "# Second intermediate layer\n",
    "model.add(LSTM(units=50, return_sequences=True))\n",
    "model.add(Dropout(0.2))\n",
    "\n",
    "# Third intermediate layer\n",
    "model.add(LSTM(units=50))\n",
    "model.add(Dropout(0.2))\n",
    "\n",
    "# Output layer\n",
    "model.add(Dense(units=1))\n",
    "\n",
    "# Compiling\n",
    "model.compile(optimizer='rmsprop', loss='mean_squared_error')\n",
    "\n",
    "# Fitting\n",
    "model.fit(X_train, y_train, epochs=10, batch_size=5)"
   ]
  },
  {
   "cell_type": "code",
   "execution_count": 11,
   "metadata": {},
   "outputs": [],
   "source": [
    "# Prepairing the data for RNN\n",
    "inputs = data_set[len(data_set) - len(test_set) - memory:len(data_set) - len(test_set)].values\n",
    "inputs = inputs.reshape(-1, 1)\n",
    "inputs = scaler.transform(inputs)"
   ]
  },
  {
   "cell_type": "code",
   "execution_count": 12,
   "metadata": {},
   "outputs": [],
   "source": [
    "# LTSM RNN running\n",
    "for i in range(0, len(test_set)):\n",
    "    X_test = []\n",
    "    if (i != 0): inputs = np.vstack([inputs, predicted_stock_price[i-1]])\n",
    "    X_test.append(inputs[i:])\n",
    "    X_test = np.array(X_test)\n",
    "    X_test = np.reshape(X_test, (X_test.shape[0], X_test.shape[1], 1))\n",
    "    if (i == 0): predicted_stock_price = np.array(model.predict(X_test))\n",
    "    else: predicted_stock_price = np.vstack([predicted_stock_price, model.predict(X_test)])\n",
    "\n",
    "predicted_stock_price = scaler.inverse_transform(predicted_stock_price)"
   ]
  },
  {
   "cell_type": "code",
   "execution_count": 13,
   "metadata": {},
   "outputs": [],
   "source": [
    "predicted_set = pd.DataFrame(data=predicted_stock_price, index=dataset[test_start_date:test_end_date].index, columns=[column])"
   ]
  },
  {
   "cell_type": "code",
   "execution_count": 14,
   "metadata": {},
   "outputs": [
    {
     "name": "stderr",
     "output_type": "stream",
     "text": [
      "/home/davidglt/RNNvsHoltWinters/lib/python3.8/site-packages/statsmodels/tsa/holtwinters.py:743: ConvergenceWarning: Optimization failed to converge. Check mle_retvals.\n",
      "  warn(\"Optimization failed to converge. Check mle_retvals.\",\n"
     ]
    }
   ],
   "source": [
    "# Holt-Winters algorithm running\n",
    "season=260\n",
    "\n",
    "df = dataset.resample('B').mean().ffill()\n",
    "train, test = df[:test_start_date - datetime.timedelta(1)].iloc[:,column], \\\n",
    "              df[test_start_date:test_end_date].iloc[:,column]\n",
    "model = ExponentialSmoothing(train, seasonal='mul', seasonal_periods=season).fit()\n",
    "pred = model.predict(start=test.index[0], end=test.index[-1])"
   ]
  },
  {
   "cell_type": "code",
   "execution_count": 15,
   "metadata": {
    "scrolled": false
   },
   "outputs": [
    {
     "data": {
      "image/png": "[encoded data removed]",
      "text/plain": [
       "<Figure size 432x288 with 1 Axes>"
      ]
     },
     "metadata": {
      "needs_background": "light"
     },
     "output_type": "display_data"
    }
   ],
   "source": [
    "# Plotting the graphs\n",
    "plt.plot(test_set, color='red', label='Real' + stock + ' Stock Price')\n",
    "plt.plot(predicted_set, color='blue', label='LSTM RNN')\n",
    "plt.plot(pred, color='green', label='Holt-Winters')\n",
    "plt.title(stock + ' Stock Price Prediction')\n",
    "plt.xlabel('Time')\n",
    "plt.ylabel(stock + ' Stock Price')\n",
    "plt.xticks(rotation=45)\n",
    "plt.legend()\n",
    "plt.show()"
   ]
  },
  {
   "cell_type": "code",
   "execution_count": 16,
   "metadata": {},
   "outputs": [
    {
     "name": "stdout",
     "output_type": "stream",
     "text": [
      "The root mean squared error for RNN is 46.78036578621208.\n",
      "The root mean squared error for Holt-Winters is 18.30616820346266.\n"
     ]
    }
   ],
   "source": [
    "# Evaluating our models with RMSE\n",
    "rnn_rmse = math.sqrt(mean_squared_error(test_set, predicted_set))\n",
    "hw_rmse = math.sqrt(mean_squared_error(test, pred))\n",
    "print(\"The root mean squared error for RNN is {}.\".format(rnn_rmse))\n",
    "print(\"The root mean squared error for Holt-Winters is {}.\".format(hw_rmse))"
   ]
  }
 ],
 "metadata": {
  "kernelspec": {
   "display_name": "Python 3",
   "language": "python",
   "name": "python3"
  },
  "language_info": {
   "codemirror_mode": {
    "name": "ipython",
    "version": 3
   },
   "file_extension": ".py",
   "mimetype": "text/x-python",
   "name": "python",
   "nbconvert_exporter": "python",
   "pygments_lexer": "ipython3",
   "version": "3.8.5"
  }
 },
 "nbformat": 4,
 "nbformat_minor": 4
}
