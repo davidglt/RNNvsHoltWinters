{
 "cells": [
  {
   "cell_type": "code",
   "execution_count": 1,
   "metadata": {},
   "outputs": [],
   "source": [
    "import math\n",
    "import numpy as np\n",
    "import matplotlib.pyplot as plt\n",
    "import pandas as pd\n",
    "import datetime\n",
    "from sklearn.preprocessing import MinMaxScaler\n",
    "from sklearn.metrics import mean_squared_error\n",
    "from keras.models import Sequential\n",
    "from keras.layers import Dense, LSTM, Dropout\n",
    "from statsmodels.tsa.holtwinters import ExponentialSmoothing"
   ]
  },
  {
   "cell_type": "code",
   "execution_count": 2,
   "metadata": {},
   "outputs": [],
   "source": [
    "# Convert an array of values into a dataset matrix.\n",
    "def create_dataset(dataset, memory=1):\n",
    "    dataX, dataY = [], []\n",
    "    for i in range(len(dataset) - memory - 1):\n",
    "        a = dataset[i:(i + memory), 0]\n",
    "        dataX.append(a)\n",
    "        dataY.append(dataset[i + memory, 0])\n",
    "    return np.array(dataX), np.array(dataY)"
   ]
  },
  {
   "cell_type": "code",
   "execution_count": 3,
   "metadata": {
    "scrolled": false
   },
   "outputs": [],
   "source": [
    "# Loading data with column date as index.\n",
    "# Folder.\n",
    "dataset_folder=\"dataset\"\n",
    "\n",
    "# Dataset file\n",
    "# It's very easy download from Yahoo finantial if you want data updated.\n",
    "#filename=\"AMZN_2006-01-01_to_2018-01-01.csv\"\n",
    "filename=\"GOOGL_2006-01-01_to_2018-01-01.csv\"\n",
    "#filename=\"IBM_2006-01-01_to_2018-01-01.csv\"\n",
    "\n",
    "dataset = pd.read_csv(dataset_folder + \"/\" + filename, index_col='Date', parse_dates=True)"
   ]
  },
  {
   "cell_type": "code",
   "execution_count": 4,
   "metadata": {
    "scrolled": true
   },
   "outputs": [
    {
     "data": {
      "text/html": [
       "<div>\n",
       "<style scoped>\n",
       "    .dataframe tbody tr th:only-of-type {\n",
       "        vertical-align: middle;\n",
       "    }\n",
       "\n",
       "    .dataframe tbody tr th {\n",
       "        vertical-align: top;\n",
       "    }\n",
       "\n",
       "    .dataframe thead th {\n",
       "        text-align: right;\n",
       "    }\n",
       "</style>\n",
       "<table border=\"1\" class=\"dataframe\">\n",
       "  <thead>\n",
       "    <tr style=\"text-align: right;\">\n",
       "      <th></th>\n",
       "      <th>Open</th>\n",
       "      <th>High</th>\n",
       "      <th>Low</th>\n",
       "      <th>Close</th>\n",
       "      <th>Volume</th>\n",
       "      <th>Name</th>\n",
       "    </tr>\n",
       "    <tr>\n",
       "      <th>Date</th>\n",
       "      <th></th>\n",
       "      <th></th>\n",
       "      <th></th>\n",
       "      <th></th>\n",
       "      <th></th>\n",
       "      <th></th>\n",
       "    </tr>\n",
       "  </thead>\n",
       "  <tbody>\n",
       "    <tr>\n",
       "      <th>2006-01-03</th>\n",
       "      <td>211.47</td>\n",
       "      <td>218.05</td>\n",
       "      <td>209.32</td>\n",
       "      <td>217.83</td>\n",
       "      <td>13137450</td>\n",
       "      <td>GOOGL</td>\n",
       "    </tr>\n",
       "    <tr>\n",
       "      <th>2006-01-04</th>\n",
       "      <td>222.17</td>\n",
       "      <td>224.70</td>\n",
       "      <td>220.09</td>\n",
       "      <td>222.84</td>\n",
       "      <td>15292353</td>\n",
       "      <td>GOOGL</td>\n",
       "    </tr>\n",
       "    <tr>\n",
       "      <th>2006-01-05</th>\n",
       "      <td>223.22</td>\n",
       "      <td>226.00</td>\n",
       "      <td>220.97</td>\n",
       "      <td>225.85</td>\n",
       "      <td>10815661</td>\n",
       "      <td>GOOGL</td>\n",
       "    </tr>\n",
       "    <tr>\n",
       "      <th>2006-01-06</th>\n",
       "      <td>228.66</td>\n",
       "      <td>235.49</td>\n",
       "      <td>226.85</td>\n",
       "      <td>233.06</td>\n",
       "      <td>17759521</td>\n",
       "      <td>GOOGL</td>\n",
       "    </tr>\n",
       "    <tr>\n",
       "      <th>2006-01-09</th>\n",
       "      <td>233.44</td>\n",
       "      <td>236.94</td>\n",
       "      <td>230.70</td>\n",
       "      <td>233.68</td>\n",
       "      <td>12795837</td>\n",
       "      <td>GOOGL</td>\n",
       "    </tr>\n",
       "  </tbody>\n",
       "</table>\n",
       "</div>"
      ],
      "text/plain": [
       "              Open    High     Low   Close    Volume   Name\n",
       "Date                                                       \n",
       "2006-01-03  211.47  218.05  209.32  217.83  13137450  GOOGL\n",
       "2006-01-04  222.17  224.70  220.09  222.84  15292353  GOOGL\n",
       "2006-01-05  223.22  226.00  220.97  225.85  10815661  GOOGL\n",
       "2006-01-06  228.66  235.49  226.85  233.06  17759521  GOOGL\n",
       "2006-01-09  233.44  236.94  230.70  233.68  12795837  GOOGL"
      ]
     },
     "execution_count": 4,
     "metadata": {},
     "output_type": "execute_result"
    }
   ],
   "source": [
    "# Preview the data.\n",
    "dataset.head()"
   ]
  },
  {
   "cell_type": "code",
   "execution_count": 5,
   "metadata": {
    "scrolled": true
   },
   "outputs": [
    {
     "data": {
      "text/plain": [
       "Open      0\n",
       "High      0\n",
       "Low       0\n",
       "Close     0\n",
       "Volume    0\n",
       "Name      0\n",
       "dtype: int64"
      ]
     },
     "execution_count": 5,
     "metadata": {},
     "output_type": "execute_result"
    }
   ],
   "source": [
    "# Searching null values.\n",
    "dataset.isnull().sum()"
   ]
  },
  {
   "cell_type": "code",
   "execution_count": 6,
   "metadata": {},
   "outputs": [],
   "source": [
    "# Replacing null values by its mean value.\n",
    "dataset.replace(np.NAN, dataset.mean(), inplace=True)"
   ]
  },
  {
   "cell_type": "code",
   "execution_count": 7,
   "metadata": {},
   "outputs": [],
   "source": [
    "# Forecast between these dates\n",
    "test_start_date = datetime.datetime.strptime('2017-01-01', '%Y-%m-%d')\n",
    "test_end_date = datetime.datetime.strptime('2017-12-31', '%Y-%m-%d')"
   ]
  },
  {
   "cell_type": "code",
   "execution_count": 8,
   "metadata": {},
   "outputs": [],
   "source": [
    "# Column to be selected.\n",
    "column=1\n",
    "data_set = dataset.iloc[:, column:column+1]"
   ]
  },
  {
   "cell_type": "code",
   "execution_count": 9,
   "metadata": {},
   "outputs": [
    {
     "data": {
      "text/html": [
       "<div>\n",
       "<style scoped>\n",
       "    .dataframe tbody tr th:only-of-type {\n",
       "        vertical-align: middle;\n",
       "    }\n",
       "\n",
       "    .dataframe tbody tr th {\n",
       "        vertical-align: top;\n",
       "    }\n",
       "\n",
       "    .dataframe thead th {\n",
       "        text-align: right;\n",
       "    }\n",
       "</style>\n",
       "<table border=\"1\" class=\"dataframe\">\n",
       "  <thead>\n",
       "    <tr style=\"text-align: right;\">\n",
       "      <th></th>\n",
       "      <th>High</th>\n",
       "    </tr>\n",
       "    <tr>\n",
       "      <th>Date</th>\n",
       "      <th></th>\n",
       "    </tr>\n",
       "  </thead>\n",
       "  <tbody>\n",
       "    <tr>\n",
       "      <th>2006-01-03</th>\n",
       "      <td>218.05</td>\n",
       "    </tr>\n",
       "    <tr>\n",
       "      <th>2006-01-04</th>\n",
       "      <td>224.70</td>\n",
       "    </tr>\n",
       "    <tr>\n",
       "      <th>2006-01-05</th>\n",
       "      <td>226.00</td>\n",
       "    </tr>\n",
       "    <tr>\n",
       "      <th>2006-01-06</th>\n",
       "      <td>235.49</td>\n",
       "    </tr>\n",
       "    <tr>\n",
       "      <th>2006-01-09</th>\n",
       "      <td>236.94</td>\n",
       "    </tr>\n",
       "    <tr>\n",
       "      <th>...</th>\n",
       "      <td>...</td>\n",
       "    </tr>\n",
       "    <tr>\n",
       "      <th>2017-12-22</th>\n",
       "      <td>1071.72</td>\n",
       "    </tr>\n",
       "    <tr>\n",
       "      <th>2017-12-26</th>\n",
       "      <td>1068.86</td>\n",
       "    </tr>\n",
       "    <tr>\n",
       "      <th>2017-12-27</th>\n",
       "      <td>1068.27</td>\n",
       "    </tr>\n",
       "    <tr>\n",
       "      <th>2017-12-28</th>\n",
       "      <td>1064.84</td>\n",
       "    </tr>\n",
       "    <tr>\n",
       "      <th>2017-12-29</th>\n",
       "      <td>1058.05</td>\n",
       "    </tr>\n",
       "  </tbody>\n",
       "</table>\n",
       "<p>3019 rows × 1 columns</p>\n",
       "</div>"
      ],
      "text/plain": [
       "               High\n",
       "Date               \n",
       "2006-01-03   218.05\n",
       "2006-01-04   224.70\n",
       "2006-01-05   226.00\n",
       "2006-01-06   235.49\n",
       "2006-01-09   236.94\n",
       "...             ...\n",
       "2017-12-22  1071.72\n",
       "2017-12-26  1068.86\n",
       "2017-12-27  1068.27\n",
       "2017-12-28  1064.84\n",
       "2017-12-29  1058.05\n",
       "\n",
       "[3019 rows x 1 columns]"
      ]
     },
     "execution_count": 9,
     "metadata": {},
     "output_type": "execute_result"
    }
   ],
   "source": [
    "data_set"
   ]
  },
  {
   "cell_type": "code",
   "execution_count": 10,
   "metadata": {},
   "outputs": [],
   "source": [
    "# We split the data into training and test sets.\n",
    "training_set = data_set[:test_start_date - datetime.timedelta(1)]\n",
    "test_set = data_set[test_start_date:test_end_date]"
   ]
  },
  {
   "cell_type": "code",
   "execution_count": 11,
   "metadata": {},
   "outputs": [],
   "source": [
    "# Normalize between 0,1 the datasets.\n",
    "scaler = MinMaxScaler(feature_range=(0,1))\n",
    "scaler.fit(data_set)\n",
    "data_set_scaled = scaler.transform(data_set)\n",
    "training_set_scaled = scaler.transform(training_set)\n",
    "test_set_scaled = scaler.transform(test_set)"
   ]
  },
  {
   "cell_type": "code",
   "execution_count": 12,
   "metadata": {},
   "outputs": [
    {
     "data": {
      "image/png": "[encoded data removed]",
      "text/plain": [
       "<Figure size 432x288 with 1 Axes>"
      ]
     },
     "metadata": {
      "needs_background": "light"
     },
     "output_type": "display_data"
    }
   ],
   "source": [
    "# Plotting training and test sets.\n",
    "stock = filename.split(\"_\",1)[0]\n",
    "plt.plot(training_set)\n",
    "plt.plot(test_set)\n",
    "plt.title(stock + ' stock price')\n",
    "plt.legend(['Training set', 'Test set'])\n",
    "plt.ylabel(dataset.columns[column] + ' column')\n",
    "plt.xticks(rotation=45)\n",
    "plt.show()"
   ]
  },
  {
   "cell_type": "code",
   "execution_count": 13,
   "metadata": {},
   "outputs": [],
   "source": [
    "# We define the memory for our LSTM.\n",
    "memory = 20\n",
    "X_train, y_train = create_dataset(training_set_scaled, memory)"
   ]
  },
  {
   "cell_type": "code",
   "execution_count": 14,
   "metadata": {},
   "outputs": [
    {
     "name": "stdout",
     "output_type": "stream",
     "text": [
      "(2747, 20)\n",
      "0.06975107\n",
      "[0.06975107]\n",
      "[0.0944445  0.09581052 0.10578247 0.1073061  0.10564586 0.10819927\n",
      " 0.10813622 0.10388055 0.10545672 0.09886831 0.09682978 0.089758\n",
      " 0.08363193 0.09234293 0.09721857 0.08973699 0.08880179 0.08620635\n",
      " 0.08952683 0.06975107]\n"
     ]
    }
   ],
   "source": [
    "# Checking the data shaping.\n",
    "print(X_train.shape)\n",
    "print('{:.8f}'.format(y_train[0]))\n",
    "print(data_set_scaled[memory])\n",
    "# Last digit must be the same.\n",
    "print(X_train[1,:])"
   ]
  },
  {
   "cell_type": "code",
   "execution_count": 15,
   "metadata": {},
   "outputs": [],
   "source": [
    "# Reshape input to be [samples=X_train.shape[0], time steps=X_train.shape[1], features=1].\n",
    "X_train = np.reshape(X_train, (X_train.shape[0], X_train.shape[1], 1))"
   ]
  },
  {
   "cell_type": "code",
   "execution_count": 16,
   "metadata": {},
   "outputs": [
    {
     "data": {
      "text/plain": [
       "(2747, 20, 1)"
      ]
     },
     "execution_count": 16,
     "metadata": {},
     "output_type": "execute_result"
    }
   ],
   "source": [
    "X_train.shape"
   ]
  },
  {
   "cell_type": "code",
   "execution_count": 17,
   "metadata": {
    "scrolled": true
   },
   "outputs": [],
   "source": [
    "# Design of the LSTM RNN.\n",
    "# input_shape (batch_size: set up in the fitting phase as batch_size , time_steps, seq_len).\n",
    "\n",
    "rnn_model = Sequential()\n",
    "\n",
    "# Input layer.\n",
    "rnn_model.add(LSTM(units=100, return_sequences=True, input_shape=(memory, 1)))\n",
    "\n",
    "# Intermediate layers.\n",
    "rnn_model.add(LSTM(units=50, return_sequences=False))\n",
    "rnn_model.add(Dropout(0.1))\n",
    "\n",
    "# Output layer.\n",
    "rnn_model.add(Dense(units=1))\n",
    "\n",
    "# Compiling.\n",
    "rnn_model.compile(optimizer='adam', loss='mean_squared_error')"
   ]
  },
  {
   "cell_type": "code",
   "execution_count": 18,
   "metadata": {
    "scrolled": false
   },
   "outputs": [
    {
     "name": "stdout",
     "output_type": "stream",
     "text": [
      "Model: \"sequential\"\n",
      "_________________________________________________________________\n",
      "Layer (type)                 Output Shape              Param #   \n",
      "=================================================================\n",
      "lstm (LSTM)                  (None, 20, 100)           40800     \n",
      "_________________________________________________________________\n",
      "lstm_1 (LSTM)                (None, 50)                30200     \n",
      "_________________________________________________________________\n",
      "dropout (Dropout)            (None, 50)                0         \n",
      "_________________________________________________________________\n",
      "dense (Dense)                (None, 1)                 51        \n",
      "=================================================================\n",
      "Total params: 71,051\n",
      "Trainable params: 71,051\n",
      "Non-trainable params: 0\n",
      "_________________________________________________________________\n"
     ]
    }
   ],
   "source": [
    "# Summary.\n",
    "rnn_model.summary()"
   ]
  },
  {
   "cell_type": "code",
   "execution_count": 19,
   "metadata": {},
   "outputs": [],
   "source": [
    "# Prepairing the memory for the first value (the last value of the traninig data set).\n",
    "inputs = data_set_scaled[len(data_set) - len(test_set) - memory:len(data_set) - len(test_set) - 1]"
   ]
  },
  {
   "cell_type": "code",
   "execution_count": 20,
   "metadata": {},
   "outputs": [
    {
     "data": {
      "text/plain": [
       "(19, 1)"
      ]
     },
     "execution_count": 20,
     "metadata": {},
     "output_type": "execute_result"
    }
   ],
   "source": [
    "inputs.shape"
   ]
  },
  {
   "cell_type": "code",
   "execution_count": 21,
   "metadata": {
    "scrolled": true
   },
   "outputs": [
    {
     "name": "stdout",
     "output_type": "stream",
     "text": [
      "Epoch 1/10\n",
      "550/550 [==============================] - 5s 9ms/step - loss: 0.0011\n",
      "Epoch 2/10\n",
      "550/550 [==============================] - 5s 9ms/step - loss: 5.8266e-04\n",
      "Epoch 3/10\n",
      "550/550 [==============================] - 5s 9ms/step - loss: 5.2850e-04\n",
      "Epoch 4/10\n",
      "550/550 [==============================] - 5s 9ms/step - loss: 4.4139e-04\n",
      "Epoch 5/10\n",
      "550/550 [==============================] - 5s 9ms/step - loss: 3.9917e-04\n",
      "Epoch 6/10\n",
      "550/550 [==============================] - 5s 9ms/step - loss: 3.4941e-04\n",
      "Epoch 7/10\n",
      "550/550 [==============================] - 5s 9ms/step - loss: 2.9636e-04\n",
      "Epoch 8/10\n",
      "550/550 [==============================] - 5s 9ms/step - loss: 3.0710e-04\n",
      "Epoch 9/10\n",
      "550/550 [==============================] - 5s 9ms/step - loss: 2.6151e-04\n",
      "Epoch 10/10\n",
      "550/550 [==============================] - 5s 9ms/step - loss: 2.3759e-04\n"
     ]
    },
    {
     "data": {
      "text/plain": [
       "<tensorflow.python.keras.callbacks.History at 0x7f5d785e3040>"
      ]
     },
     "execution_count": 21,
     "metadata": {},
     "output_type": "execute_result"
    }
   ],
   "source": [
    "# Fitting.\n",
    "rnn_model.fit(X_train, y_train, epochs=10, batch_size=5)"
   ]
  },
  {
   "cell_type": "code",
   "execution_count": 22,
   "metadata": {},
   "outputs": [],
   "source": [
    "# We want a large forecast not only one day value.\n",
    "predicted_stock_price_scaled = np.array(training_set_scaled[-1])\n",
    "for i in range(len(test_set)):\n",
    "    inputs = np.vstack([inputs, predicted_stock_price_scaled[i]])\n",
    "    X_test = np.array(inputs[i:])\n",
    "    X_test = np.reshape(X_test, (1, X_test.shape[0], 1))\n",
    "    predicted_stock_price_scaled = np.vstack([predicted_stock_price_scaled, rnn_model.predict(X_test)])\n",
    "\n",
    "predicted_stock_price = scaler.inverse_transform(predicted_stock_price_scaled[1:])"
   ]
  },
  {
   "cell_type": "code",
   "execution_count": 23,
   "metadata": {},
   "outputs": [
    {
     "name": "stdout",
     "output_type": "stream",
     "text": [
      "[811.44]\n",
      "[789.12670558]\n"
     ]
    }
   ],
   "source": [
    "# Checking the first forecast value vs the first test value.\n",
    "print(test_set.iloc[0].values)\n",
    "print(predicted_stock_price[0])"
   ]
  },
  {
   "cell_type": "code",
   "execution_count": 24,
   "metadata": {},
   "outputs": [],
   "source": [
    "predicted_set = pd.DataFrame(data=predicted_stock_price, index=test_set.index, columns=[column])"
   ]
  },
  {
   "cell_type": "code",
   "execution_count": 25,
   "metadata": {},
   "outputs": [],
   "source": [
    "# 1day RNN, only ONE day predicted every step.\n",
    "inputs = data_set_scaled[len(data_set)-len(test_set)-memory:]\n",
    "inputs = inputs.reshape(-1,1)\n",
    "X_test = []\n",
    "for i in range(memory, inputs.shape[0]):\n",
    "    X_test.append(inputs[i-memory:i,0])\n",
    "X_test = np.array(X_test)\n",
    "X_test = np.reshape(X_test, (X_test.shape[0], X_test.shape[1], 1))\n",
    "predicted_stock_price_1day = rnn_model.predict(X_test)\n",
    "predicted_stock_price_1day = scaler.inverse_transform(predicted_stock_price_1day)\n",
    "predicted_set_1day = pd.DataFrame(data=predicted_stock_price_1day,\n",
    "                                  index=test_set.index, columns=[column])"
   ]
  },
  {
   "cell_type": "code",
   "execution_count": 26,
   "metadata": {
    "scrolled": true
   },
   "outputs": [],
   "source": [
    "# Naive RNN, the next day predicted value is the today value.\n",
    "predicted_set_naive = np.array(training_set[-1:].values)\n",
    "predicted_set_naive = np.append(predicted_set_naive, test_set[0:-1].values)\n",
    "predicted_set_naive = pd.DataFrame(data=predicted_set_naive, index=test_set.index, columns=[column])"
   ]
  },
  {
   "cell_type": "code",
   "execution_count": 27,
   "metadata": {},
   "outputs": [
    {
     "data": {
      "text/plain": [
       "array([[[811.44, 803.28]],\n",
       "\n",
       "       [[813.43, 811.44]],\n",
       "\n",
       "       [[813.74, 813.43]],\n",
       "\n",
       "       [[828.96, 813.74]],\n",
       "\n",
       "       [[830.43, 828.96]]])"
      ]
     },
     "execution_count": 27,
     "metadata": {},
     "output_type": "execute_result"
    }
   ],
   "source": [
    "# Testing the Naive data predicted is the data of the day before (first 5 rows).\n",
    "np.stack((test_set, predicted_set_naive), axis=-1)[0:5,:]"
   ]
  },
  {
   "cell_type": "code",
   "execution_count": 28,
   "metadata": {
    "scrolled": true
   },
   "outputs": [
    {
     "name": "stderr",
     "output_type": "stream",
     "text": [
      "/home/davidglt/RNNvsHoltWinters/lib/python3.8/site-packages/statsmodels/tsa/holtwinters.py:743: ConvergenceWarning: Optimization failed to converge. Check mle_retvals.\n",
      "  warn(\"Optimization failed to converge. Check mle_retvals.\",\n"
     ]
    }
   ],
   "source": [
    "# Holt-Winters algorithm running.\n",
    "# Each year we have the same periods: summer holidays, Easter, Chrismas...\n",
    "# We have 252 business days per year.\n",
    "season=252\n",
    "\n",
    "df = dataset.resample('B').mean().ffill()\n",
    "df.index.freq = 'B'\n",
    "\n",
    "train, test = df[:test_start_date - datetime.timedelta(1)].iloc[:,column], \\\n",
    "              df[test_start_date:test_end_date].iloc[:,column]\n",
    "\n",
    "hw_model = ExponentialSmoothing(train, freq='B', trend='add', seasonal='mul', seasonal_periods=season).fit()\n",
    "pred = hw_model.predict(start=test.index[0], end=test.index[-1])"
   ]
  },
  {
   "cell_type": "code",
   "execution_count": 29,
   "metadata": {},
   "outputs": [
    {
     "name": "stdout",
     "output_type": "stream",
     "text": [
      "                       ExponentialSmoothing Model Results                       \n",
      "================================================================================\n",
      "Dep. Variable:                    endog   No. Observations:                 2869\n",
      "Model:             ExponentialSmoothing   SSE                          94548.063\n",
      "Optimized:                         True   AIC                          10539.570\n",
      "Trend:                         Additive   BIC                          12065.770\n",
      "Seasonal:                Multiplicative   AICC                         10590.775\n",
      "Seasonal Periods:                   252   Date:                 Mon, 03 Aug 2020\n",
      "Box-Cox:                          False   Time:                         22:19:19\n",
      "Box-Cox Coeff.:                    None                                         \n",
      "==================================================================================\n",
      "                           coeff                 code              optimized      \n",
      "----------------------------------------------------------------------------------\n",
      "smoothing_level                0.9999994                alpha                 True\n",
      "smoothing_slope                0.1041571                 beta                 True\n",
      "smoothing_seasonal              0.000000                gamma                 True\n",
      "initial_level                  393.57912                  l.0                 True\n",
      "initial_slope                  0.2298076                  b.0                 True\n",
      "initial_seasons.0              0.5968890                  s.0                 True\n",
      "initial_seasons.1              0.5929525                  s.1                 True\n",
      "initial_seasons.2              0.5925913                  s.2                 True\n",
      "initial_seasons.3              0.5896594                  s.3                 True\n",
      "initial_seasons.4              0.5880093                  s.4                 True\n",
      "initial_seasons.5              0.5880327                  s.5                 True\n",
      "initial_seasons.6              0.5883279                  s.6                 True\n",
      "initial_seasons.7              0.5831989                  s.7                 True\n",
      "initial_seasons.8              0.5805936                  s.8                 True\n",
      "initial_seasons.9              0.5728116                  s.9                 True\n",
      "initial_seasons.10             0.5688614                 s.10                 True\n",
      "initial_seasons.11             0.5651186                 s.11                 True\n",
      "initial_seasons.12             0.5650389                 s.12                 True\n",
      "initial_seasons.13             0.5608011                 s.13                 True\n",
      "initial_seasons.14             0.5554116                 s.14                 True\n",
      "initial_seasons.15             0.5507260                 s.15                 True\n",
      "initial_seasons.16             0.5467240                 s.16                 True\n",
      "initial_seasons.17             0.5468355                 s.17                 True\n",
      "initial_seasons.18             0.5420447                 s.18                 True\n",
      "initial_seasons.19             0.5344257                 s.19                 True\n",
      "initial_seasons.20             0.5285318                 s.20                 True\n",
      "initial_seasons.21             0.5206752                 s.21                 True\n",
      "initial_seasons.22             0.5156858                 s.22                 True\n",
      "initial_seasons.23             0.5101489                 s.23                 True\n",
      "initial_seasons.24             0.5087824                 s.24                 True\n",
      "initial_seasons.25             0.5087717                 s.25                 True\n",
      "initial_seasons.26             0.5021595                 s.26                 True\n",
      "initial_seasons.27             0.4965062                 s.27                 True\n",
      "initial_seasons.28             0.4942601                 s.28                 True\n",
      "initial_seasons.29             0.4909980                 s.29                 True\n",
      "initial_seasons.30             0.4892617                 s.30                 True\n",
      "initial_seasons.31             0.4837943                 s.31                 True\n",
      "initial_seasons.32             0.4792854                 s.32                 True\n",
      "initial_seasons.33             0.4768825                 s.33                 True\n",
      "initial_seasons.34             0.4748073                 s.34                 True\n",
      "initial_seasons.35             0.4720045                 s.35                 True\n",
      "initial_seasons.36             0.4673242                 s.36                 True\n",
      "initial_seasons.37             0.4671509                 s.37                 True\n",
      "initial_seasons.38             0.4759075                 s.38                 True\n",
      "initial_seasons.39             0.4673401                 s.39                 True\n",
      "initial_seasons.40             0.4638382                 s.40                 True\n",
      "initial_seasons.41             0.4632559                 s.41                 True\n",
      "initial_seasons.42             0.4645859                 s.42                 True\n",
      "initial_seasons.43             0.4668694                 s.43                 True\n",
      "initial_seasons.44             0.4680935                 s.44                 True\n",
      "initial_seasons.45             0.4686347                 s.45                 True\n",
      "initial_seasons.46             0.4693459                 s.46                 True\n",
      "initial_seasons.47             0.4730029                 s.47                 True\n",
      "initial_seasons.48             0.4728399                 s.48                 True\n",
      "initial_seasons.49             0.4709143                 s.49                 True\n",
      "initial_seasons.50             0.4731320                 s.50                 True\n",
      "initial_seasons.51             0.4768200                 s.51                 True\n",
      "initial_seasons.52             0.4756037                 s.52                 True\n",
      "initial_seasons.53             0.4760853                 s.53                 True\n",
      "initial_seasons.54             0.4767438                 s.54                 True\n",
      "initial_seasons.55             0.4760280                 s.55                 True\n",
      "initial_seasons.56             0.4764629                 s.56                 True\n",
      "initial_seasons.57             0.4796052                 s.57                 True\n",
      "initial_seasons.58             0.4861847                 s.58                 True\n",
      "initial_seasons.59             0.4872456                 s.59                 True\n",
      "initial_seasons.60             0.4884041                 s.60                 True\n",
      "initial_seasons.61             0.4849826                 s.61                 True\n",
      "initial_seasons.62             0.4876145                 s.62                 True\n",
      "initial_seasons.63             0.4931906                 s.63                 True\n",
      "initial_seasons.64             0.4963914                 s.64                 True\n",
      "initial_seasons.65             0.5019007                 s.65                 True\n",
      "initial_seasons.66             0.5045187                 s.66                 True\n",
      "initial_seasons.67             0.5040599                 s.67                 True\n",
      "initial_seasons.68             0.5066436                 s.68                 True\n",
      "initial_seasons.69             0.5086439                 s.69                 True\n",
      "initial_seasons.70             0.5103255                 s.70                 True\n",
      "initial_seasons.71             0.5117251                 s.71                 True\n",
      "initial_seasons.72             0.5150910                 s.72                 True\n",
      "initial_seasons.73             0.5149203                 s.73                 True\n",
      "initial_seasons.74             0.5179049                 s.74                 True\n",
      "initial_seasons.75             0.5206985                 s.75                 True\n",
      "initial_seasons.76             0.5216244                 s.76                 True\n",
      "initial_seasons.77             0.5258772                 s.77                 True\n",
      "initial_seasons.78             0.5275235                 s.78                 True\n",
      "initial_seasons.79             0.5278898                 s.79                 True\n",
      "initial_seasons.80             0.5290017                 s.80                 True\n",
      "initial_seasons.81             0.5290750                 s.81                 True\n",
      "initial_seasons.82             0.5275719                 s.82                 True\n",
      "initial_seasons.83             0.5272942                 s.83                 True\n",
      "initial_seasons.84             0.5289937                 s.84                 True\n",
      "initial_seasons.85             0.5294549                 s.85                 True\n",
      "initial_seasons.86             0.5245147                 s.86                 True\n",
      "initial_seasons.87             0.5209230                 s.87                 True\n",
      "initial_seasons.88             0.5178553                 s.88                 True\n",
      "initial_seasons.89             0.5115364                 s.89                 True\n",
      "initial_seasons.90             0.5091698                 s.90                 True\n",
      "initial_seasons.91             0.5086390                 s.91                 True\n",
      "initial_seasons.92             0.5065598                 s.92                 True\n",
      "initial_seasons.93             0.5041481                 s.93                 True\n",
      "initial_seasons.94             0.5018404                 s.94                 True\n",
      "initial_seasons.95             0.5001512                 s.95                 True\n",
      "initial_seasons.96             0.4995833                 s.96                 True\n",
      "initial_seasons.97             0.4947432                 s.97                 True\n",
      "initial_seasons.98             0.4878126                 s.98                 True\n",
      "initial_seasons.99             0.4857684                 s.99                 True\n",
      "initial_seasons.100            0.4893366                s.100                 True\n",
      "initial_seasons.101            0.4884783                s.101                 True\n",
      "initial_seasons.102            0.4914129                s.102                 True\n",
      "initial_seasons.103            0.4930716                s.103                 True\n",
      "initial_seasons.104            0.4936626                s.104                 True\n",
      "initial_seasons.105            0.4923647                s.105                 True\n",
      "initial_seasons.106            0.4912768                s.106                 True\n",
      "initial_seasons.107            0.4974505                s.107                 True\n",
      "initial_seasons.108            0.5007830                s.108                 True\n",
      "initial_seasons.109            0.5052915                s.109                 True\n",
      "initial_seasons.110            0.5126136                s.110                 True\n",
      "initial_seasons.111            0.5089350                s.111                 True\n",
      "initial_seasons.112            0.5013141                s.112                 True\n",
      "initial_seasons.113            0.4973269                s.113                 True\n",
      "initial_seasons.114            0.4948277                s.114                 True\n",
      "initial_seasons.115            0.5003388                s.115                 True\n",
      "initial_seasons.116            0.5016262                s.116                 True\n",
      "initial_seasons.117            0.5014579                s.117                 True\n",
      "initial_seasons.118            0.5027197                s.118                 True\n",
      "initial_seasons.119            0.5052192                s.119                 True\n",
      "initial_seasons.120            0.5097249                s.120                 True\n",
      "initial_seasons.121            0.5151876                s.121                 True\n",
      "initial_seasons.122            0.5168137                s.122                 True\n",
      "initial_seasons.123            0.5170154                s.123                 True\n",
      "initial_seasons.124            0.5226674                s.124                 True\n",
      "initial_seasons.125            0.5237966                s.125                 True\n",
      "initial_seasons.126            0.5228803                s.126                 True\n",
      "initial_seasons.127            0.5239935                s.127                 True\n",
      "initial_seasons.128            0.5230803                s.128                 True\n",
      "initial_seasons.129            0.5203486                s.129                 True\n",
      "initial_seasons.130            0.5228560                s.130                 True\n",
      "initial_seasons.131            0.5197943                s.131                 True\n",
      "initial_seasons.132            0.5200391                s.132                 True\n",
      "initial_seasons.133            0.5204856                s.133                 True\n",
      "initial_seasons.134            0.5189644                s.134                 True\n",
      "initial_seasons.135            0.5191461                s.135                 True\n",
      "initial_seasons.136            0.5222413                s.136                 True\n",
      "initial_seasons.137            0.5227898                s.137                 True\n",
      "initial_seasons.138            0.5175381                s.138                 True\n",
      "initial_seasons.139            0.5178853                s.139                 True\n",
      "initial_seasons.140            0.5175286                s.140                 True\n",
      "initial_seasons.141            0.5167761                s.141                 True\n",
      "initial_seasons.142            0.5138929                s.142                 True\n",
      "initial_seasons.143            0.5104529                s.143                 True\n",
      "initial_seasons.144            0.5059706                s.144                 True\n",
      "initial_seasons.145            0.5071702                s.145                 True\n",
      "initial_seasons.146            0.5037298                s.146                 True\n",
      "initial_seasons.147            0.5001639                s.147                 True\n",
      "initial_seasons.148            0.4971338                s.148                 True\n",
      "initial_seasons.149            0.4966426                s.149                 True\n",
      "initial_seasons.150            0.4981195                s.150                 True\n",
      "initial_seasons.151            0.4980286                s.151                 True\n",
      "initial_seasons.152            0.4929005                s.152                 True\n",
      "initial_seasons.153            0.4902385                s.153                 True\n",
      "initial_seasons.154            0.4911187                s.154                 True\n",
      "initial_seasons.155            0.4873615                s.155                 True\n",
      "initial_seasons.156            0.4883937                s.156                 True\n",
      "initial_seasons.157            0.4904607                s.157                 True\n",
      "initial_seasons.158            0.4885945                s.158                 True\n",
      "initial_seasons.159            0.4869422                s.159                 True\n",
      "initial_seasons.160            0.4880879                s.160                 True\n",
      "initial_seasons.161            0.4877375                s.161                 True\n",
      "initial_seasons.162            0.4873856                s.162                 True\n",
      "initial_seasons.163            0.4877051                s.163                 True\n",
      "initial_seasons.164            0.4878507                s.164                 True\n",
      "initial_seasons.165            0.4875813                s.165                 True\n",
      "initial_seasons.166            0.4856281                s.166                 True\n",
      "initial_seasons.167            0.4845908                s.167                 True\n",
      "initial_seasons.168            0.4788285                s.168                 True\n",
      "initial_seasons.169            0.4792247                s.169                 True\n",
      "initial_seasons.170            0.4823620                s.170                 True\n",
      "initial_seasons.171            0.4822850                s.171                 True\n",
      "initial_seasons.172            0.4851572                s.172                 True\n",
      "initial_seasons.173            0.4837400                s.173                 True\n",
      "initial_seasons.174            0.4892884                s.174                 True\n",
      "initial_seasons.175            0.4914478                s.175                 True\n",
      "initial_seasons.176            0.4917102                s.176                 True\n",
      "initial_seasons.177            0.4946882                s.177                 True\n",
      "initial_seasons.178            0.4968616                s.178                 True\n",
      "initial_seasons.179            0.4996748                s.179                 True\n",
      "initial_seasons.180            0.5023345                s.180                 True\n",
      "initial_seasons.181            0.5064104                s.181                 True\n",
      "initial_seasons.182            0.5076326                s.182                 True\n",
      "initial_seasons.183            0.5110732                s.183                 True\n",
      "initial_seasons.184            0.5123961                s.184                 True\n",
      "initial_seasons.185            0.5134867                s.185                 True\n",
      "initial_seasons.186            0.5109895                s.186                 True\n",
      "initial_seasons.187            0.5111285                s.187                 True\n",
      "initial_seasons.188            0.5146653                s.188                 True\n",
      "initial_seasons.189            0.5137580                s.189                 True\n",
      "initial_seasons.190            0.5186115                s.190                 True\n",
      "initial_seasons.191            0.5227413                s.191                 True\n",
      "initial_seasons.192            0.5238499                s.192                 True\n",
      "initial_seasons.193            0.5300719                s.193                 True\n",
      "initial_seasons.194            0.5346038                s.194                 True\n",
      "initial_seasons.195            0.5392347                s.195                 True\n",
      "initial_seasons.196            0.5422967                s.196                 True\n",
      "initial_seasons.197            0.5452529                s.197                 True\n",
      "initial_seasons.198            0.5475645                s.198                 True\n",
      "initial_seasons.199            0.5520207                s.199                 True\n",
      "initial_seasons.200            0.5549968                s.200                 True\n",
      "initial_seasons.201            0.5607554                s.201                 True\n",
      "initial_seasons.202            0.5639051                s.202                 True\n",
      "initial_seasons.203            0.5652835                s.203                 True\n",
      "initial_seasons.204            0.5657739                s.204                 True\n",
      "initial_seasons.205            0.5662236                s.205                 True\n",
      "initial_seasons.206            0.5685225                s.206                 True\n",
      "initial_seasons.207            0.5711922                s.207                 True\n",
      "initial_seasons.208            0.5737858                s.208                 True\n",
      "initial_seasons.209            0.5763262                s.209                 True\n",
      "initial_seasons.210            0.5814609                s.210                 True\n",
      "initial_seasons.211            0.5836288                s.211                 True\n",
      "initial_seasons.212            0.5910496                s.212                 True\n",
      "initial_seasons.213            0.5903914                s.213                 True\n",
      "initial_seasons.214            0.5902137                s.214                 True\n",
      "initial_seasons.215            0.5952603                s.215                 True\n",
      "initial_seasons.216            0.6029020                s.216                 True\n",
      "initial_seasons.217            0.6056358                s.217                 True\n",
      "initial_seasons.218            0.6090136                s.218                 True\n",
      "initial_seasons.219            0.6127920                s.219                 True\n",
      "initial_seasons.220            0.6321521                s.220                 True\n",
      "initial_seasons.221            0.6323768                s.221                 True\n",
      "initial_seasons.222            0.6294938                s.222                 True\n",
      "initial_seasons.223            0.6317170                s.223                 True\n",
      "initial_seasons.224            0.6306946                s.224                 True\n",
      "initial_seasons.225            0.6290615                s.225                 True\n",
      "initial_seasons.226            0.6267697                s.226                 True\n",
      "initial_seasons.227            0.6262701                s.227                 True\n",
      "initial_seasons.228            0.6265418                s.228                 True\n",
      "initial_seasons.229            0.6297373                s.229                 True\n",
      "initial_seasons.230            0.6313218                s.230                 True\n",
      "initial_seasons.231            0.6299986                s.231                 True\n",
      "initial_seasons.232            0.6283211                s.232                 True\n",
      "initial_seasons.233            0.6298663                s.233                 True\n",
      "initial_seasons.234            0.6282975                s.234                 True\n",
      "initial_seasons.235            0.6247006                s.235                 True\n",
      "initial_seasons.236            0.6246090                s.236                 True\n",
      "initial_seasons.237            0.6297063                s.237                 True\n",
      "initial_seasons.238            0.6341125                s.238                 True\n",
      "initial_seasons.239            0.6318145                s.239                 True\n",
      "initial_seasons.240            0.6293275                s.240                 True\n",
      "initial_seasons.241            0.6271863                s.241                 True\n",
      "initial_seasons.242            0.6260212                s.242                 True\n",
      "initial_seasons.243            0.6253522                s.243                 True\n",
      "initial_seasons.244            0.6242129                s.244                 True\n",
      "initial_seasons.245            0.6200721                s.245                 True\n",
      "initial_seasons.246            0.6128412                s.246                 True\n",
      "initial_seasons.247            0.6119649                s.247                 True\n",
      "initial_seasons.248            0.6130589                s.248                 True\n",
      "initial_seasons.249            0.6125983                s.249                 True\n",
      "initial_seasons.250            0.6066426                s.250                 True\n",
      "initial_seasons.251            0.6033647                s.251                 True\n",
      "----------------------------------------------------------------------------------\n"
     ]
    }
   ],
   "source": [
    "print(hw_model.summary())"
   ]
  },
  {
   "cell_type": "code",
   "execution_count": 30,
   "metadata": {
    "scrolled": false
   },
   "outputs": [
    {
     "data": {
      "image/png": "[encoded data removed]",
      "text/plain": [
       "<Figure size 432x288 with 1 Axes>"
      ]
     },
     "metadata": {
      "needs_background": "light"
     },
     "output_type": "display_data"
    }
   ],
   "source": [
    "# Plotting the graphs.\n",
    "plt.plot(test_set, color='red', label='Real ' + stock + ' Stock Price')\n",
    "plt.plot(predicted_set, color='blue', label='LSTM RNN')\n",
    "plt.plot(predicted_set_1day, color='black', label='LSTM RNN 1Day')\n",
    "plt.plot(predicted_set_naive, color='purple', label='LSTM RNN Naive')\n",
    "plt.plot(pred, color='green', label='Holt-Winters')\n",
    "plt.title(stock + ' Stock Price Prediction')\n",
    "plt.xlabel('Time')\n",
    "plt.ylabel(stock + ' Stock Price')\n",
    "plt.xticks(rotation=45)\n",
    "plt.legend()\n",
    "plt.show()"
   ]
  },
  {
   "cell_type": "code",
   "execution_count": 31,
   "metadata": {},
   "outputs": [
    {
     "name": "stdout",
     "output_type": "stream",
     "text": [
      "The root mean squared error for 1-day Naive is 9.182684228559433.\n",
      "The root mean squared error for 1-day RNN is 35.16201633477673.\n",
      "The root mean squared error for RNN is 370.0734281965321.\n",
      "The root mean squared error for Holt-Winters is 136.56078082927093.\n"
     ]
    }
   ],
   "source": [
    "# Evaluating our models with RMSE.\n",
    "rnn_rmse = math.sqrt(mean_squared_error(test_set, predicted_set))\n",
    "rnn_rmse_1day = math.sqrt(mean_squared_error(test_set, predicted_set_1day))\n",
    "rnn_rmse_naive = math.sqrt(mean_squared_error(test_set, predicted_set_naive))\n",
    "hw_rmse = math.sqrt(mean_squared_error(test, pred))\n",
    "\n",
    "print(\"The root mean squared error for 1-day Naive is {}.\".format(rnn_rmse_naive))\n",
    "print(\"The root mean squared error for 1-day RNN is {}.\".format(rnn_rmse_1day))\n",
    "print(\"The root mean squared error for RNN is {}.\".format(rnn_rmse))\n",
    "print(\"The root mean squared error for Holt-Winters is {}.\".format(hw_rmse))"
   ]
  },
  {
   "cell_type": "code",
   "execution_count": 32,
   "metadata": {},
   "outputs": [],
   "source": [
    "# Unload models from memory.\n",
    "del rnn_model\n",
    "del hw_model"
   ]
  }
 ],
 "metadata": {
  "kernelspec": {
   "display_name": "Python 3",
   "language": "python",
   "name": "python3"
  },
  "language_info": {
   "codemirror_mode": {
    "name": "ipython",
    "version": 3
   },
   "file_extension": ".py",
   "mimetype": "text/x-python",
   "name": "python",
   "nbconvert_exporter": "python",
   "pygments_lexer": "ipython3",
   "version": "3.8.5"
  }
 },
 "nbformat": 4,
 "nbformat_minor": 4
}
