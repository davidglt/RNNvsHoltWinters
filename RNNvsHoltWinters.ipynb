{
 "cells": [
  {
   "cell_type": "code",
   "execution_count": 1,
   "metadata": {},
   "outputs": [],
   "source": [
    "import math\n",
    "import numpy as np\n",
    "import matplotlib.pyplot as plt\n",
    "import pandas as pd\n",
    "import datetime\n",
    "from sklearn.preprocessing import MinMaxScaler\n",
    "from sklearn.metrics import mean_squared_error\n",
    "from keras.models import Sequential\n",
    "from keras.layers import Dense, LSTM, Dropout\n",
    "from statsmodels.tsa.holtwinters import ExponentialSmoothing"
   ]
  },
  {
   "cell_type": "code",
   "execution_count": 2,
   "metadata": {},
   "outputs": [],
   "source": [
    "# convert an array of values into a dataset matrix\n",
    "def create_dataset(dataset, memory=1):\n",
    "    dataX, dataY = [], []\n",
    "    for i in range(len(dataset) - memory - 1):\n",
    "        a = dataset[i:(i + memory), 0]\n",
    "        dataX.append(a)\n",
    "        dataY.append(dataset[i + memory, 0])\n",
    "    return np.array(dataX), np.array(dataY)"
   ]
  },
  {
   "cell_type": "code",
   "execution_count": 3,
   "metadata": {
    "scrolled": false
   },
   "outputs": [],
   "source": [
    "# Loading data with column date as index\n",
    "# Folder\n",
    "dataset_folder=\"dataset\"\n",
    "\n",
    "# Dataset file\n",
    "# It's very easy download from Yahoo finantial if you want data updated.\n",
    "filename=\"AMZN_2006-01-01_to_2018-01-01.csv\"\n",
    "#filename=\"GOOGL_2006-01-01_to_2018-01-01.csv\"\n",
    "#filename=\"IBM_2006-01-01_to_2018-01-01.csv\"\n",
    "\n",
    "dataset = pd.read_csv(dataset_folder + \"/\" + filename, index_col='Date', parse_dates=True)"
   ]
  },
  {
   "cell_type": "code",
   "execution_count": 4,
   "metadata": {
    "scrolled": true
   },
   "outputs": [
    {
     "data": {
      "text/html": [
       "<div>\n",
       "<style scoped>\n",
       "    .dataframe tbody tr th:only-of-type {\n",
       "        vertical-align: middle;\n",
       "    }\n",
       "\n",
       "    .dataframe tbody tr th {\n",
       "        vertical-align: top;\n",
       "    }\n",
       "\n",
       "    .dataframe thead th {\n",
       "        text-align: right;\n",
       "    }\n",
       "</style>\n",
       "<table border=\"1\" class=\"dataframe\">\n",
       "  <thead>\n",
       "    <tr style=\"text-align: right;\">\n",
       "      <th></th>\n",
       "      <th>Open</th>\n",
       "      <th>High</th>\n",
       "      <th>Low</th>\n",
       "      <th>Close</th>\n",
       "      <th>Volume</th>\n",
       "      <th>Name</th>\n",
       "    </tr>\n",
       "    <tr>\n",
       "      <th>Date</th>\n",
       "      <th></th>\n",
       "      <th></th>\n",
       "      <th></th>\n",
       "      <th></th>\n",
       "      <th></th>\n",
       "      <th></th>\n",
       "    </tr>\n",
       "  </thead>\n",
       "  <tbody>\n",
       "    <tr>\n",
       "      <th>2006-01-03</th>\n",
       "      <td>47.47</td>\n",
       "      <td>47.85</td>\n",
       "      <td>46.25</td>\n",
       "      <td>47.58</td>\n",
       "      <td>7582127</td>\n",
       "      <td>AMZN</td>\n",
       "    </tr>\n",
       "    <tr>\n",
       "      <th>2006-01-04</th>\n",
       "      <td>47.48</td>\n",
       "      <td>47.73</td>\n",
       "      <td>46.69</td>\n",
       "      <td>47.25</td>\n",
       "      <td>7440914</td>\n",
       "      <td>AMZN</td>\n",
       "    </tr>\n",
       "    <tr>\n",
       "      <th>2006-01-05</th>\n",
       "      <td>47.16</td>\n",
       "      <td>48.20</td>\n",
       "      <td>47.11</td>\n",
       "      <td>47.65</td>\n",
       "      <td>5417258</td>\n",
       "      <td>AMZN</td>\n",
       "    </tr>\n",
       "    <tr>\n",
       "      <th>2006-01-06</th>\n",
       "      <td>47.97</td>\n",
       "      <td>48.58</td>\n",
       "      <td>47.32</td>\n",
       "      <td>47.87</td>\n",
       "      <td>6154285</td>\n",
       "      <td>AMZN</td>\n",
       "    </tr>\n",
       "    <tr>\n",
       "      <th>2006-01-09</th>\n",
       "      <td>46.55</td>\n",
       "      <td>47.10</td>\n",
       "      <td>46.40</td>\n",
       "      <td>47.08</td>\n",
       "      <td>8945056</td>\n",
       "      <td>AMZN</td>\n",
       "    </tr>\n",
       "  </tbody>\n",
       "</table>\n",
       "</div>"
      ],
      "text/plain": [
       "             Open   High    Low  Close   Volume  Name\n",
       "Date                                                 \n",
       "2006-01-03  47.47  47.85  46.25  47.58  7582127  AMZN\n",
       "2006-01-04  47.48  47.73  46.69  47.25  7440914  AMZN\n",
       "2006-01-05  47.16  48.20  47.11  47.65  5417258  AMZN\n",
       "2006-01-06  47.97  48.58  47.32  47.87  6154285  AMZN\n",
       "2006-01-09  46.55  47.10  46.40  47.08  8945056  AMZN"
      ]
     },
     "execution_count": 4,
     "metadata": {},
     "output_type": "execute_result"
    }
   ],
   "source": [
    "# Preview the data\n",
    "dataset.head()"
   ]
  },
  {
   "cell_type": "code",
   "execution_count": 5,
   "metadata": {
    "scrolled": true
   },
   "outputs": [
    {
     "data": {
      "text/plain": [
       "Open      0\n",
       "High      0\n",
       "Low       0\n",
       "Close     0\n",
       "Volume    0\n",
       "Name      0\n",
       "dtype: int64"
      ]
     },
     "execution_count": 5,
     "metadata": {},
     "output_type": "execute_result"
    }
   ],
   "source": [
    "# Searching null values.\n",
    "dataset.isnull().sum()"
   ]
  },
  {
   "cell_type": "code",
   "execution_count": 6,
   "metadata": {},
   "outputs": [],
   "source": [
    "# Replacing null values by its mean value.\n",
    "dataset.replace(np.NAN, dataset.mean(), inplace=True)"
   ]
  },
  {
   "cell_type": "code",
   "execution_count": 7,
   "metadata": {},
   "outputs": [],
   "source": [
    "# Forecast between these dates\n",
    "test_start_date = datetime.datetime.strptime('2017-01-01', '%Y-%m-%d')\n",
    "test_end_date = datetime.datetime.strptime('2017-12-31', '%Y-%m-%d')"
   ]
  },
  {
   "cell_type": "code",
   "execution_count": 8,
   "metadata": {},
   "outputs": [],
   "source": [
    "# Column to be selected\n",
    "column=1\n",
    "data_set = dataset.iloc[:, column:column+1]"
   ]
  },
  {
   "cell_type": "code",
   "execution_count": 9,
   "metadata": {},
   "outputs": [
    {
     "data": {
      "text/html": [
       "<div>\n",
       "<style scoped>\n",
       "    .dataframe tbody tr th:only-of-type {\n",
       "        vertical-align: middle;\n",
       "    }\n",
       "\n",
       "    .dataframe tbody tr th {\n",
       "        vertical-align: top;\n",
       "    }\n",
       "\n",
       "    .dataframe thead th {\n",
       "        text-align: right;\n",
       "    }\n",
       "</style>\n",
       "<table border=\"1\" class=\"dataframe\">\n",
       "  <thead>\n",
       "    <tr style=\"text-align: right;\">\n",
       "      <th></th>\n",
       "      <th>High</th>\n",
       "    </tr>\n",
       "    <tr>\n",
       "      <th>Date</th>\n",
       "      <th></th>\n",
       "    </tr>\n",
       "  </thead>\n",
       "  <tbody>\n",
       "    <tr>\n",
       "      <th>2006-01-03</th>\n",
       "      <td>47.85</td>\n",
       "    </tr>\n",
       "    <tr>\n",
       "      <th>2006-01-04</th>\n",
       "      <td>47.73</td>\n",
       "    </tr>\n",
       "    <tr>\n",
       "      <th>2006-01-05</th>\n",
       "      <td>48.20</td>\n",
       "    </tr>\n",
       "    <tr>\n",
       "      <th>2006-01-06</th>\n",
       "      <td>48.58</td>\n",
       "    </tr>\n",
       "    <tr>\n",
       "      <th>2006-01-09</th>\n",
       "      <td>47.10</td>\n",
       "    </tr>\n",
       "    <tr>\n",
       "      <th>...</th>\n",
       "      <td>...</td>\n",
       "    </tr>\n",
       "    <tr>\n",
       "      <th>2017-12-22</th>\n",
       "      <td>1174.62</td>\n",
       "    </tr>\n",
       "    <tr>\n",
       "      <th>2017-12-26</th>\n",
       "      <td>1178.32</td>\n",
       "    </tr>\n",
       "    <tr>\n",
       "      <th>2017-12-27</th>\n",
       "      <td>1187.29</td>\n",
       "    </tr>\n",
       "    <tr>\n",
       "      <th>2017-12-28</th>\n",
       "      <td>1190.10</td>\n",
       "    </tr>\n",
       "    <tr>\n",
       "      <th>2017-12-29</th>\n",
       "      <td>1184.00</td>\n",
       "    </tr>\n",
       "  </tbody>\n",
       "</table>\n",
       "<p>3019 rows × 1 columns</p>\n",
       "</div>"
      ],
      "text/plain": [
       "               High\n",
       "Date               \n",
       "2006-01-03    47.85\n",
       "2006-01-04    47.73\n",
       "2006-01-05    48.20\n",
       "2006-01-06    48.58\n",
       "2006-01-09    47.10\n",
       "...             ...\n",
       "2017-12-22  1174.62\n",
       "2017-12-26  1178.32\n",
       "2017-12-27  1187.29\n",
       "2017-12-28  1190.10\n",
       "2017-12-29  1184.00\n",
       "\n",
       "[3019 rows x 1 columns]"
      ]
     },
     "execution_count": 9,
     "metadata": {},
     "output_type": "execute_result"
    }
   ],
   "source": [
    "data_set"
   ]
  },
  {
   "cell_type": "code",
   "execution_count": 10,
   "metadata": {},
   "outputs": [],
   "source": [
    "# We split the data into training and test sets\n",
    "training_set = data_set[:test_start_date - datetime.timedelta(1)]\n",
    "test_set = data_set[test_start_date:test_end_date]"
   ]
  },
  {
   "cell_type": "code",
   "execution_count": 11,
   "metadata": {},
   "outputs": [],
   "source": [
    "# Normalize between 0,1 the datasets\n",
    "scaler = MinMaxScaler(feature_range=(0,1))\n",
    "scaler.fit(data_set)\n",
    "data_set_scaled = scaler.transform(data_set)\n",
    "training_set_scaled = scaler.transform(training_set)\n",
    "test_set_scaled = scaler.transform(test_set)"
   ]
  },
  {
   "cell_type": "code",
   "execution_count": 12,
   "metadata": {},
   "outputs": [
    {
     "data": {
      "image/png": "[encoded data removed]",
      "text/plain": [
       "<Figure size 432x288 with 1 Axes>"
      ]
     },
     "metadata": {
      "needs_background": "light"
     },
     "output_type": "display_data"
    }
   ],
   "source": [
    "# Plotting training and test sets\n",
    "stock = filename.split(\"_\",1)[0]\n",
    "plt.plot(training_set)\n",
    "plt.plot(test_set)\n",
    "plt.title(stock + ' stock price')\n",
    "plt.legend(['Training set', 'Test set'])\n",
    "plt.ylabel(dataset.columns[column] + ' column')\n",
    "plt.xticks(rotation=45)\n",
    "plt.show()"
   ]
  },
  {
   "cell_type": "code",
   "execution_count": 13,
   "metadata": {},
   "outputs": [],
   "source": [
    "# We define the memory for our LSTM\n",
    "memory = 60\n",
    "X_train, y_train = create_dataset(training_set_scaled, memory)"
   ]
  },
  {
   "cell_type": "code",
   "execution_count": 14,
   "metadata": {},
   "outputs": [
    {
     "name": "stdout",
     "output_type": "stream",
     "text": [
      "(2707, 60)\n",
      "0.00892925\n",
      "[0.00892925]\n",
      "[0.01805224 0.01844816 0.01876827 0.01752154 0.01722671 0.01634221\n",
      " 0.01582836 0.01562618 0.01517972 0.01540717 0.01595471 0.01521342\n",
      " 0.01554195 0.01527238 0.01530608 0.01556722 0.01593787 0.01656965\n",
      " 0.01592944 0.0154914  0.01494386 0.01027706 0.01014228 0.01002434\n",
      " 0.0101844  0.01069825 0.01029391 0.01020967 0.01026864 0.01093412\n",
      " 0.01154063 0.01101836 0.01079091 0.01078249 0.01048765 0.01020125\n",
      " 0.01051293 0.00993168 0.00959473 0.00901349 0.00971266 0.00950207\n",
      " 0.00936729 0.00940941 0.00897979 0.0085923  0.00870181 0.00901349\n",
      " 0.00901349 0.00934202 0.00899664 0.00924093 0.00878604 0.00862599\n",
      " 0.00845751 0.00827219 0.00788469 0.00818795 0.00885343 0.00892925]\n"
     ]
    }
   ],
   "source": [
    "# Checking the data shaping\n",
    "print(X_train.shape)\n",
    "print('{:.8f}'.format(y_train[0]))\n",
    "print(data_set_scaled[memory])\n",
    "# Last digit must be the same\n",
    "print(X_train[1,:])"
   ]
  },
  {
   "cell_type": "code",
   "execution_count": 15,
   "metadata": {},
   "outputs": [],
   "source": [
    "# Reshape input to be [samples=X_train.shape[0], time steps=X_train.shape[1], features=1].\n",
    "X_train = np.reshape(X_train, (X_train.shape[0], X_train.shape[1], 1))"
   ]
  },
  {
   "cell_type": "code",
   "execution_count": 16,
   "metadata": {},
   "outputs": [
    {
     "data": {
      "text/plain": [
       "(2707, 60, 1)"
      ]
     },
     "execution_count": 16,
     "metadata": {},
     "output_type": "execute_result"
    }
   ],
   "source": [
    "X_train.shape"
   ]
  },
  {
   "cell_type": "code",
   "execution_count": 17,
   "metadata": {
    "scrolled": true
   },
   "outputs": [],
   "source": [
    "# Design of the LSTM RNN\n",
    "# input_shape (batch_size: set up in the fitting phase as batch_size , time_steps, seq_len)\n",
    "\n",
    "model = Sequential()\n",
    "\n",
    "# Input layer\n",
    "model.add(LSTM(units=50, return_sequences=True, input_shape=(memory, 1)))\n",
    "\n",
    "# Intermediate layers\n",
    "model.add(LSTM(units=50, return_sequences=True))\n",
    "model.add(Dropout(0.2))\n",
    "model.add(LSTM(units=50, return_sequences=False))\n",
    "model.add(Dense(units=25))\n",
    "\n",
    "# Output layer\n",
    "model.add(Dense(units=1))\n",
    "\n",
    "# Compiling\n",
    "model.compile(optimizer='adam', loss='mean_squared_error')"
   ]
  },
  {
   "cell_type": "code",
   "execution_count": 18,
   "metadata": {
    "scrolled": false
   },
   "outputs": [
    {
     "name": "stdout",
     "output_type": "stream",
     "text": [
      "Model: \"sequential\"\n",
      "_________________________________________________________________\n",
      "Layer (type)                 Output Shape              Param #   \n",
      "=================================================================\n",
      "lstm (LSTM)                  (None, 60, 50)            10400     \n",
      "_________________________________________________________________\n",
      "lstm_1 (LSTM)                (None, 60, 50)            20200     \n",
      "_________________________________________________________________\n",
      "dropout (Dropout)            (None, 60, 50)            0         \n",
      "_________________________________________________________________\n",
      "lstm_2 (LSTM)                (None, 50)                20200     \n",
      "_________________________________________________________________\n",
      "dense (Dense)                (None, 25)                1275      \n",
      "_________________________________________________________________\n",
      "dense_1 (Dense)              (None, 1)                 26        \n",
      "=================================================================\n",
      "Total params: 52,101\n",
      "Trainable params: 52,101\n",
      "Non-trainable params: 0\n",
      "_________________________________________________________________\n"
     ]
    }
   ],
   "source": [
    "# Summary\n",
    "model.summary()"
   ]
  },
  {
   "cell_type": "code",
   "execution_count": 19,
   "metadata": {},
   "outputs": [],
   "source": [
    "# Prepairing the memory for the first value (the last value of the traninig data set).\n",
    "inputs = data_set_scaled[len(data_set) - len(test_set) - memory:len(data_set) - len(test_set) - 1]"
   ]
  },
  {
   "cell_type": "code",
   "execution_count": null,
   "metadata": {
    "scrolled": true
   },
   "outputs": [
    {
     "name": "stdout",
     "output_type": "stream",
     "text": [
      "Epoch 1/5\n",
      "542/542 [==============================] - 9s 17ms/step - loss: 8.3265e-04\n",
      "Epoch 2/5\n",
      "542/542 [==============================] - 9s 17ms/step - loss: 3.2141e-04\n",
      "Epoch 3/5\n",
      "323/542 [================>.............] - ETA: 3s - loss: 3.9220e-04"
     ]
    }
   ],
   "source": [
    "# Fitting\n",
    "model.fit(X_train, y_train, epochs=5, batch_size=5)"
   ]
  },
  {
   "cell_type": "code",
   "execution_count": null,
   "metadata": {},
   "outputs": [],
   "source": [
    "# We want a large forecast not only one value.\n",
    "predicted_stock_price = np.array(training_set_scaled[-1])\n",
    "for i in range(len(test_set)):\n",
    "    inputs = np.vstack([inputs, predicted_stock_price[i]])\n",
    "    X_test = np.array(inputs[i:])\n",
    "    X_test = np.reshape(X_test, (1, X_test.shape[0], 1))\n",
    "    predicted_stock_price = np.vstack([predicted_stock_price, model.predict(X_test)])\n",
    "\n",
    "predicted_stock_price = scaler.inverse_transform(predicted_stock_price[1:])"
   ]
  },
  {
   "cell_type": "code",
   "execution_count": null,
   "metadata": {},
   "outputs": [],
   "source": [
    "# Checking the first forecast value vs the first test value.\n",
    "print(test_set.iloc[0].values)\n",
    "print(predicted_stock_price[0])"
   ]
  },
  {
   "cell_type": "code",
   "execution_count": null,
   "metadata": {},
   "outputs": [],
   "source": [
    "predicted_set = pd.DataFrame(data=predicted_stock_price, index=dataset[test_start_date:test_end_date].index, columns=[column])"
   ]
  },
  {
   "cell_type": "code",
   "execution_count": null,
   "metadata": {},
   "outputs": [],
   "source": [
    "# Holt-Winters algorithm running\n",
    "# Each year we have the same periods: summer holidays, Easter, Chrismas...\n",
    "# We have 252 business days per year.\n",
    "season=252\n",
    "\n",
    "df = dataset.resample('B').mean().ffill()\n",
    "train, test = df[:test_start_date - datetime.timedelta(1)].iloc[:,column], \\\n",
    "              df[test_start_date:test_end_date].iloc[:,column]\n",
    "model = ExponentialSmoothing(train, seasonal='mul', seasonal_periods=season).fit()\n",
    "pred = model.predict(start=test.index[0], end=test.index[-1])"
   ]
  },
  {
   "cell_type": "code",
   "execution_count": null,
   "metadata": {
    "scrolled": false
   },
   "outputs": [],
   "source": [
    "# Plotting the graphs\n",
    "plt.plot(test_set, color='red', label='Real ' + stock + ' Stock Price')\n",
    "plt.plot(predicted_set, color='blue', label='LSTM RNN')\n",
    "plt.plot(pred, color='green', label='Holt-Winters')\n",
    "plt.title(stock + ' Stock Price Prediction')\n",
    "plt.xlabel('Time')\n",
    "plt.ylabel(stock + ' Stock Price')\n",
    "plt.xticks(rotation=45)\n",
    "plt.legend()\n",
    "plt.show()"
   ]
  },
  {
   "cell_type": "code",
   "execution_count": null,
   "metadata": {},
   "outputs": [],
   "source": [
    "# Evaluating our models with RMSE\n",
    "rnn_rmse = math.sqrt(mean_squared_error(test_set, predicted_set))\n",
    "hw_rmse = math.sqrt(mean_squared_error(test, pred))\n",
    "print(\"The root mean squared error for RNN is {}.\".format(rnn_rmse))\n",
    "print(\"The root mean squared error for Holt-Winters is {}.\".format(hw_rmse))"
   ]
  },
  {
   "cell_type": "code",
   "execution_count": null,
   "metadata": {},
   "outputs": [],
   "source": []
  }
 ],
 "metadata": {
  "kernelspec": {
   "display_name": "Python 3",
   "language": "python",
   "name": "python3"
  },
  "language_info": {
   "codemirror_mode": {
    "name": "ipython",
    "version": 3
   },
   "file_extension": ".py",
   "mimetype": "text/x-python",
   "name": "python",
   "nbconvert_exporter": "python",
   "pygments_lexer": "ipython3",
   "version": "3.8.5"
  }
 },
 "nbformat": 4,
 "nbformat_minor": 4
}
